{
 "cells": [
  {
   "cell_type": "code",
   "execution_count": 1,
   "metadata": {},
   "outputs": [
    {
     "name": "stderr",
     "output_type": "stream",
     "text": [
      "2024-10-26 20:28:53.183961: I tensorflow/core/util/port.cc:153] oneDNN custom operations are on. You may see slightly different numerical results due to floating-point round-off errors from different computation orders. To turn them off, set the environment variable `TF_ENABLE_ONEDNN_OPTS=0`.\n",
      "2024-10-26 20:28:53.221226: E external/local_xla/xla/stream_executor/cuda/cuda_fft.cc:477] Unable to register cuFFT factory: Attempting to register factory for plugin cuFFT when one has already been registered\n",
      "WARNING: All log messages before absl::InitializeLog() is called are written to STDERR\n",
      "E0000 00:00:1729988933.243408   33683 cuda_dnn.cc:8310] Unable to register cuDNN factory: Attempting to register factory for plugin cuDNN when one has already been registered\n",
      "E0000 00:00:1729988933.249694   33683 cuda_blas.cc:1418] Unable to register cuBLAS factory: Attempting to register factory for plugin cuBLAS when one has already been registered\n",
      "2024-10-26 20:28:53.272084: I tensorflow/core/platform/cpu_feature_guard.cc:210] This TensorFlow binary is optimized to use available CPU instructions in performance-critical operations.\n",
      "To enable the following instructions: AVX2 AVX_VNNI FMA, in other operations, rebuild TensorFlow with the appropriate compiler flags.\n"
     ]
    }
   ],
   "source": [
    "import tensorflow as tf\n",
    "import os\n",
    "from keras.preprocessing import image\n"
   ]
  },
  {
   "cell_type": "code",
   "execution_count": 2,
   "metadata": {},
   "outputs": [
    {
     "name": "stdout",
     "output_type": "stream",
     "text": [
      "[PhysicalDevice(name='/physical_device:GPU:0', device_type='GPU')]\n",
      "2.18.0\n"
     ]
    }
   ],
   "source": [
    "print(tf.config.list_physical_devices('GPU'))\n",
    "print(tf.__version__)"
   ]
  },
  {
   "cell_type": "code",
   "execution_count": 3,
   "metadata": {},
   "outputs": [],
   "source": [
    "def load_images_from_path(path, label):\n",
    "    images = []\n",
    "    labels = []\n",
    "\n",
    "    for file in os.listdir(path):\n",
    "        images.append(image.img_to_array(image.load_img(os.path.join(path, file), target_size=(372, 147, 3))))\n",
    "        labels.append((label))\n",
    "        \n",
    "    return images, labels"
   ]
  },
  {
   "cell_type": "code",
   "execution_count": 4,
   "metadata": {},
   "outputs": [],
   "source": [
    "x = []\n",
    "y = []\n",
    "for folder in os.listdir(\"data/train/\"):\n",
    "    images, labels = load_images_from_path(\"data/train/\" + folder, folder)\n",
    "    x += images\n",
    "    y += labels"
   ]
  },
  {
   "cell_type": "code",
   "execution_count": 5,
   "metadata": {},
   "outputs": [
    {
     "data": {
      "text/plain": [
       "(4223, 4223)"
      ]
     },
     "execution_count": 5,
     "metadata": {},
     "output_type": "execute_result"
    }
   ],
   "source": [
    "len(x), len(y)"
   ]
  },
  {
   "cell_type": "code",
   "execution_count": 6,
   "metadata": {},
   "outputs": [],
   "source": [
    "from tensorflow.keras.utils import to_categorical\n",
    "from sklearn.model_selection import train_test_split\n",
    "import numpy as np\n",
    "\n",
    "x_train, x_test, y_train, y_test = train_test_split(x, y, stratify=y, test_size=0.3, random_state=0)\n",
    "\n",
    "x_train_norm = np.array(x_train) / 255\n",
    "x_test_norm = np.array(x_test) / 255\n",
    "\n",
    "y_train_encoded = to_categorical(y_train)\n",
    "y_test_encoded = to_categorical(y_test)"
   ]
  },
  {
   "cell_type": "code",
   "execution_count": 9,
   "metadata": {},
   "outputs": [
    {
     "data": {
      "text/html": [
       "<pre style=\"white-space:pre;overflow-x:auto;line-height:normal;font-family:Menlo,'DejaVu Sans Mono',consolas,'Courier New',monospace\"><span style=\"font-weight: bold\">Model: \"sequential_1\"</span>\n",
       "</pre>\n"
      ],
      "text/plain": [
       "\u001b[1mModel: \"sequential_1\"\u001b[0m\n"
      ]
     },
     "metadata": {},
     "output_type": "display_data"
    },
    {
     "data": {
      "text/html": [
       "<pre style=\"white-space:pre;overflow-x:auto;line-height:normal;font-family:Menlo,'DejaVu Sans Mono',consolas,'Courier New',monospace\">┏━━━━━━━━━━━━━━━━━━━━━━━━━━━━━━━━━┳━━━━━━━━━━━━━━━━━━━━━━━━┳━━━━━━━━━━━━━━━┓\n",
       "┃<span style=\"font-weight: bold\"> Layer (type)                    </span>┃<span style=\"font-weight: bold\"> Output Shape           </span>┃<span style=\"font-weight: bold\">       Param # </span>┃\n",
       "┡━━━━━━━━━━━━━━━━━━━━━━━━━━━━━━━━━╇━━━━━━━━━━━━━━━━━━━━━━━━╇━━━━━━━━━━━━━━━┩\n",
       "│ conv2d_4 (<span style=\"color: #0087ff; text-decoration-color: #0087ff\">Conv2D</span>)               │ (<span style=\"color: #00d7ff; text-decoration-color: #00d7ff\">None</span>, <span style=\"color: #00af00; text-decoration-color: #00af00\">368</span>, <span style=\"color: #00af00; text-decoration-color: #00af00\">143</span>, <span style=\"color: #00af00; text-decoration-color: #00af00\">32</span>)   │         <span style=\"color: #00af00; text-decoration-color: #00af00\">2,432</span> │\n",
       "├─────────────────────────────────┼────────────────────────┼───────────────┤\n",
       "│ max_pooling2d_4 (<span style=\"color: #0087ff; text-decoration-color: #0087ff\">MaxPooling2D</span>)  │ (<span style=\"color: #00d7ff; text-decoration-color: #00d7ff\">None</span>, <span style=\"color: #00af00; text-decoration-color: #00af00\">184</span>, <span style=\"color: #00af00; text-decoration-color: #00af00\">71</span>, <span style=\"color: #00af00; text-decoration-color: #00af00\">32</span>)    │             <span style=\"color: #00af00; text-decoration-color: #00af00\">0</span> │\n",
       "├─────────────────────────────────┼────────────────────────┼───────────────┤\n",
       "│ conv2d_5 (<span style=\"color: #0087ff; text-decoration-color: #0087ff\">Conv2D</span>)               │ (<span style=\"color: #00d7ff; text-decoration-color: #00d7ff\">None</span>, <span style=\"color: #00af00; text-decoration-color: #00af00\">182</span>, <span style=\"color: #00af00; text-decoration-color: #00af00\">69</span>, <span style=\"color: #00af00; text-decoration-color: #00af00\">128</span>)   │        <span style=\"color: #00af00; text-decoration-color: #00af00\">36,992</span> │\n",
       "├─────────────────────────────────┼────────────────────────┼───────────────┤\n",
       "│ max_pooling2d_5 (<span style=\"color: #0087ff; text-decoration-color: #0087ff\">MaxPooling2D</span>)  │ (<span style=\"color: #00d7ff; text-decoration-color: #00d7ff\">None</span>, <span style=\"color: #00af00; text-decoration-color: #00af00\">91</span>, <span style=\"color: #00af00; text-decoration-color: #00af00\">34</span>, <span style=\"color: #00af00; text-decoration-color: #00af00\">128</span>)    │             <span style=\"color: #00af00; text-decoration-color: #00af00\">0</span> │\n",
       "├─────────────────────────────────┼────────────────────────┼───────────────┤\n",
       "│ conv2d_6 (<span style=\"color: #0087ff; text-decoration-color: #0087ff\">Conv2D</span>)               │ (<span style=\"color: #00d7ff; text-decoration-color: #00d7ff\">None</span>, <span style=\"color: #00af00; text-decoration-color: #00af00\">89</span>, <span style=\"color: #00af00; text-decoration-color: #00af00\">32</span>, <span style=\"color: #00af00; text-decoration-color: #00af00\">128</span>)    │       <span style=\"color: #00af00; text-decoration-color: #00af00\">147,584</span> │\n",
       "├─────────────────────────────────┼────────────────────────┼───────────────┤\n",
       "│ max_pooling2d_6 (<span style=\"color: #0087ff; text-decoration-color: #0087ff\">MaxPooling2D</span>)  │ (<span style=\"color: #00d7ff; text-decoration-color: #00d7ff\">None</span>, <span style=\"color: #00af00; text-decoration-color: #00af00\">44</span>, <span style=\"color: #00af00; text-decoration-color: #00af00\">16</span>, <span style=\"color: #00af00; text-decoration-color: #00af00\">128</span>)    │             <span style=\"color: #00af00; text-decoration-color: #00af00\">0</span> │\n",
       "├─────────────────────────────────┼────────────────────────┼───────────────┤\n",
       "│ conv2d_7 (<span style=\"color: #0087ff; text-decoration-color: #0087ff\">Conv2D</span>)               │ (<span style=\"color: #00d7ff; text-decoration-color: #00d7ff\">None</span>, <span style=\"color: #00af00; text-decoration-color: #00af00\">42</span>, <span style=\"color: #00af00; text-decoration-color: #00af00\">14</span>, <span style=\"color: #00af00; text-decoration-color: #00af00\">128</span>)    │       <span style=\"color: #00af00; text-decoration-color: #00af00\">147,584</span> │\n",
       "├─────────────────────────────────┼────────────────────────┼───────────────┤\n",
       "│ max_pooling2d_7 (<span style=\"color: #0087ff; text-decoration-color: #0087ff\">MaxPooling2D</span>)  │ (<span style=\"color: #00d7ff; text-decoration-color: #00d7ff\">None</span>, <span style=\"color: #00af00; text-decoration-color: #00af00\">21</span>, <span style=\"color: #00af00; text-decoration-color: #00af00\">7</span>, <span style=\"color: #00af00; text-decoration-color: #00af00\">128</span>)     │             <span style=\"color: #00af00; text-decoration-color: #00af00\">0</span> │\n",
       "├─────────────────────────────────┼────────────────────────┼───────────────┤\n",
       "│ flatten_1 (<span style=\"color: #0087ff; text-decoration-color: #0087ff\">Flatten</span>)             │ (<span style=\"color: #00d7ff; text-decoration-color: #00d7ff\">None</span>, <span style=\"color: #00af00; text-decoration-color: #00af00\">18816</span>)          │             <span style=\"color: #00af00; text-decoration-color: #00af00\">0</span> │\n",
       "├─────────────────────────────────┼────────────────────────┼───────────────┤\n",
       "│ dense_2 (<span style=\"color: #0087ff; text-decoration-color: #0087ff\">Dense</span>)                 │ (<span style=\"color: #00d7ff; text-decoration-color: #00d7ff\">None</span>, <span style=\"color: #00af00; text-decoration-color: #00af00\">1024</span>)           │    <span style=\"color: #00af00; text-decoration-color: #00af00\">19,268,608</span> │\n",
       "├─────────────────────────────────┼────────────────────────┼───────────────┤\n",
       "│ dense_3 (<span style=\"color: #0087ff; text-decoration-color: #0087ff\">Dense</span>)                 │ (<span style=\"color: #00d7ff; text-decoration-color: #00d7ff\">None</span>, <span style=\"color: #00af00; text-decoration-color: #00af00\">109</span>)            │       <span style=\"color: #00af00; text-decoration-color: #00af00\">111,725</span> │\n",
       "└─────────────────────────────────┴────────────────────────┴───────────────┘\n",
       "</pre>\n"
      ],
      "text/plain": [
       "┏━━━━━━━━━━━━━━━━━━━━━━━━━━━━━━━━━┳━━━━━━━━━━━━━━━━━━━━━━━━┳━━━━━━━━━━━━━━━┓\n",
       "┃\u001b[1m \u001b[0m\u001b[1mLayer (type)                   \u001b[0m\u001b[1m \u001b[0m┃\u001b[1m \u001b[0m\u001b[1mOutput Shape          \u001b[0m\u001b[1m \u001b[0m┃\u001b[1m \u001b[0m\u001b[1m      Param #\u001b[0m\u001b[1m \u001b[0m┃\n",
       "┡━━━━━━━━━━━━━━━━━━━━━━━━━━━━━━━━━╇━━━━━━━━━━━━━━━━━━━━━━━━╇━━━━━━━━━━━━━━━┩\n",
       "│ conv2d_4 (\u001b[38;5;33mConv2D\u001b[0m)               │ (\u001b[38;5;45mNone\u001b[0m, \u001b[38;5;34m368\u001b[0m, \u001b[38;5;34m143\u001b[0m, \u001b[38;5;34m32\u001b[0m)   │         \u001b[38;5;34m2,432\u001b[0m │\n",
       "├─────────────────────────────────┼────────────────────────┼───────────────┤\n",
       "│ max_pooling2d_4 (\u001b[38;5;33mMaxPooling2D\u001b[0m)  │ (\u001b[38;5;45mNone\u001b[0m, \u001b[38;5;34m184\u001b[0m, \u001b[38;5;34m71\u001b[0m, \u001b[38;5;34m32\u001b[0m)    │             \u001b[38;5;34m0\u001b[0m │\n",
       "├─────────────────────────────────┼────────────────────────┼───────────────┤\n",
       "│ conv2d_5 (\u001b[38;5;33mConv2D\u001b[0m)               │ (\u001b[38;5;45mNone\u001b[0m, \u001b[38;5;34m182\u001b[0m, \u001b[38;5;34m69\u001b[0m, \u001b[38;5;34m128\u001b[0m)   │        \u001b[38;5;34m36,992\u001b[0m │\n",
       "├─────────────────────────────────┼────────────────────────┼───────────────┤\n",
       "│ max_pooling2d_5 (\u001b[38;5;33mMaxPooling2D\u001b[0m)  │ (\u001b[38;5;45mNone\u001b[0m, \u001b[38;5;34m91\u001b[0m, \u001b[38;5;34m34\u001b[0m, \u001b[38;5;34m128\u001b[0m)    │             \u001b[38;5;34m0\u001b[0m │\n",
       "├─────────────────────────────────┼────────────────────────┼───────────────┤\n",
       "│ conv2d_6 (\u001b[38;5;33mConv2D\u001b[0m)               │ (\u001b[38;5;45mNone\u001b[0m, \u001b[38;5;34m89\u001b[0m, \u001b[38;5;34m32\u001b[0m, \u001b[38;5;34m128\u001b[0m)    │       \u001b[38;5;34m147,584\u001b[0m │\n",
       "├─────────────────────────────────┼────────────────────────┼───────────────┤\n",
       "│ max_pooling2d_6 (\u001b[38;5;33mMaxPooling2D\u001b[0m)  │ (\u001b[38;5;45mNone\u001b[0m, \u001b[38;5;34m44\u001b[0m, \u001b[38;5;34m16\u001b[0m, \u001b[38;5;34m128\u001b[0m)    │             \u001b[38;5;34m0\u001b[0m │\n",
       "├─────────────────────────────────┼────────────────────────┼───────────────┤\n",
       "│ conv2d_7 (\u001b[38;5;33mConv2D\u001b[0m)               │ (\u001b[38;5;45mNone\u001b[0m, \u001b[38;5;34m42\u001b[0m, \u001b[38;5;34m14\u001b[0m, \u001b[38;5;34m128\u001b[0m)    │       \u001b[38;5;34m147,584\u001b[0m │\n",
       "├─────────────────────────────────┼────────────────────────┼───────────────┤\n",
       "│ max_pooling2d_7 (\u001b[38;5;33mMaxPooling2D\u001b[0m)  │ (\u001b[38;5;45mNone\u001b[0m, \u001b[38;5;34m21\u001b[0m, \u001b[38;5;34m7\u001b[0m, \u001b[38;5;34m128\u001b[0m)     │             \u001b[38;5;34m0\u001b[0m │\n",
       "├─────────────────────────────────┼────────────────────────┼───────────────┤\n",
       "│ flatten_1 (\u001b[38;5;33mFlatten\u001b[0m)             │ (\u001b[38;5;45mNone\u001b[0m, \u001b[38;5;34m18816\u001b[0m)          │             \u001b[38;5;34m0\u001b[0m │\n",
       "├─────────────────────────────────┼────────────────────────┼───────────────┤\n",
       "│ dense_2 (\u001b[38;5;33mDense\u001b[0m)                 │ (\u001b[38;5;45mNone\u001b[0m, \u001b[38;5;34m1024\u001b[0m)           │    \u001b[38;5;34m19,268,608\u001b[0m │\n",
       "├─────────────────────────────────┼────────────────────────┼───────────────┤\n",
       "│ dense_3 (\u001b[38;5;33mDense\u001b[0m)                 │ (\u001b[38;5;45mNone\u001b[0m, \u001b[38;5;34m109\u001b[0m)            │       \u001b[38;5;34m111,725\u001b[0m │\n",
       "└─────────────────────────────────┴────────────────────────┴───────────────┘\n"
      ]
     },
     "metadata": {},
     "output_type": "display_data"
    },
    {
     "data": {
      "text/html": [
       "<pre style=\"white-space:pre;overflow-x:auto;line-height:normal;font-family:Menlo,'DejaVu Sans Mono',consolas,'Courier New',monospace\"><span style=\"font-weight: bold\"> Total params: </span><span style=\"color: #00af00; text-decoration-color: #00af00\">19,714,925</span> (75.21 MB)\n",
       "</pre>\n"
      ],
      "text/plain": [
       "\u001b[1m Total params: \u001b[0m\u001b[38;5;34m19,714,925\u001b[0m (75.21 MB)\n"
      ]
     },
     "metadata": {},
     "output_type": "display_data"
    },
    {
     "data": {
      "text/html": [
       "<pre style=\"white-space:pre;overflow-x:auto;line-height:normal;font-family:Menlo,'DejaVu Sans Mono',consolas,'Courier New',monospace\"><span style=\"font-weight: bold\"> Trainable params: </span><span style=\"color: #00af00; text-decoration-color: #00af00\">19,714,925</span> (75.21 MB)\n",
       "</pre>\n"
      ],
      "text/plain": [
       "\u001b[1m Trainable params: \u001b[0m\u001b[38;5;34m19,714,925\u001b[0m (75.21 MB)\n"
      ]
     },
     "metadata": {},
     "output_type": "display_data"
    },
    {
     "data": {
      "text/html": [
       "<pre style=\"white-space:pre;overflow-x:auto;line-height:normal;font-family:Menlo,'DejaVu Sans Mono',consolas,'Courier New',monospace\"><span style=\"font-weight: bold\"> Non-trainable params: </span><span style=\"color: #00af00; text-decoration-color: #00af00\">0</span> (0.00 B)\n",
       "</pre>\n"
      ],
      "text/plain": [
       "\u001b[1m Non-trainable params: \u001b[0m\u001b[38;5;34m0\u001b[0m (0.00 B)\n"
      ]
     },
     "metadata": {},
     "output_type": "display_data"
    }
   ],
   "source": [
    "from keras.models import Sequential\n",
    "from keras.layers import Conv2D, MaxPooling2D\n",
    "from keras.layers import Flatten, Dense\n",
    "\n",
    "model = Sequential()\n",
    "model.add(Conv2D(32, (5, 5), activation='relu', input_shape=(372, 147, 3)))\n",
    "model.add(MaxPooling2D(2, 2))\n",
    "model.add(Conv2D(128, (3, 3), activation='relu'))\n",
    "model.add(MaxPooling2D(2, 2))\n",
    "model.add(Conv2D(128, (3, 3), activation='relu'))\n",
    "model.add(MaxPooling2D(2, 2))\n",
    "model.add(Conv2D(128, (3, 3), activation='relu'))\n",
    "model.add(MaxPooling2D(2, 2))\n",
    "model.add(Flatten())\n",
    "model.add(Dense(1024, activation='relu'))\n",
    "model.add(Dense(109, activation='softmax'))\n",
    "model.compile(optimizer='adam', loss='categorical_crossentropy', metrics=['accuracy'])\n",
    "model.summary()"
   ]
  },
  {
   "cell_type": "code",
   "execution_count": 10,
   "metadata": {},
   "outputs": [
    {
     "name": "stdout",
     "output_type": "stream",
     "text": [
      "Epoch 1/100\n"
     ]
    },
    {
     "name": "stderr",
     "output_type": "stream",
     "text": [
      "2024-10-26 20:31:02.236279: W external/local_xla/xla/tsl/framework/bfc_allocator.cc:306] Allocator (GPU_0_bfc) ran out of memory trying to allocate 510.64MiB with freed_by_count=0. The caller indicates that this is not a failure, but this may mean that there could be performance gains if more memory were available.\n",
      "2024-10-26 20:31:02.236607: W external/local_xla/xla/tsl/framework/bfc_allocator.cc:306] Allocator (GPU_0_bfc) ran out of memory trying to allocate 510.64MiB with freed_by_count=0. The caller indicates that this is not a failure, but this may mean that there could be performance gains if more memory were available.\n",
      "2024-10-26 20:31:02.447642: W external/local_xla/xla/tsl/framework/bfc_allocator.cc:306] Allocator (GPU_0_bfc) ran out of memory trying to allocate 510.64MiB with freed_by_count=0. The caller indicates that this is not a failure, but this may mean that there could be performance gains if more memory were available.\n",
      "2024-10-26 20:31:02.447770: W external/local_xla/xla/tsl/framework/bfc_allocator.cc:306] Allocator (GPU_0_bfc) ran out of memory trying to allocate 510.64MiB with freed_by_count=0. The caller indicates that this is not a failure, but this may mean that there could be performance gains if more memory were available.\n",
      "2024-10-26 20:31:03.525370: W external/local_xla/xla/tsl/framework/bfc_allocator.cc:306] Allocator (GPU_0_bfc) ran out of memory trying to allocate 1.15GiB with freed_by_count=0. The caller indicates that this is not a failure, but this may mean that there could be performance gains if more memory were available.\n",
      "2024-10-26 20:31:17.774591: E external/local_xla/xla/service/slow_operation_alarm.cc:65] Trying algorithm eng0{} for conv (f32[128,32,3,3]{3,2,1,0}, u8[0]{0}) custom-call(f32[64,32,184,71]{3,2,1,0}, f32[64,128,182,69]{3,2,1,0}), window={size=3x3}, dim_labels=bf01_oi01->bf01, custom_call_target=\"__cudnn$convBackwardFilter\", backend_config={\"cudnn_conv_backend_config\":{\"activation_mode\":\"kNone\",\"conv_result_scale\":1,\"leakyrelu_alpha\":0,\"side_input_scale\":0},\"force_earliest_schedule\":false,\"operation_queue_id\":\"0\",\"wait_on_operation_queues\":[]} is taking a while...\n",
      "2024-10-26 20:31:18.093406: E external/local_xla/xla/service/slow_operation_alarm.cc:133] The operation took 1.317707541s\n",
      "Trying algorithm eng0{} for conv (f32[128,32,3,3]{3,2,1,0}, u8[0]{0}) custom-call(f32[64,32,184,71]{3,2,1,0}, f32[64,128,182,69]{3,2,1,0}), window={size=3x3}, dim_labels=bf01_oi01->bf01, custom_call_target=\"__cudnn$convBackwardFilter\", backend_config={\"cudnn_conv_backend_config\":{\"activation_mode\":\"kNone\",\"conv_result_scale\":1,\"leakyrelu_alpha\":0,\"side_input_scale\":0},\"force_earliest_schedule\":false,\"operation_queue_id\":\"0\",\"wait_on_operation_queues\":[]} is taking a while...\n",
      "2024-10-26 20:31:32.269621: W external/local_xla/xla/tsl/framework/bfc_allocator.cc:497] Allocator (GPU_0_bfc) ran out of memory trying to allocate 2.12GiB (rounded to 2281646592)requested by op \n",
      "2024-10-26 20:31:32.269712: I external/local_xla/xla/tsl/framework/bfc_allocator.cc:1053] BFCAllocator dump for GPU_0_bfc\n",
      "2024-10-26 20:31:32.269728: I external/local_xla/xla/tsl/framework/bfc_allocator.cc:1060] Bin (256): \tTotal Chunks: 31, Chunks in use: 31. 7.8KiB allocated for chunks. 7.8KiB in use in bin. 512B client-requested in use in bin.\n",
      "2024-10-26 20:31:32.269733: I external/local_xla/xla/tsl/framework/bfc_allocator.cc:1060] Bin (512): \tTotal Chunks: 10, Chunks in use: 10. 5.0KiB allocated for chunks. 5.0KiB in use in bin. 4.4KiB client-requested in use in bin.\n",
      "2024-10-26 20:31:32.269741: I external/local_xla/xla/tsl/framework/bfc_allocator.cc:1060] Bin (1024): \tTotal Chunks: 2, Chunks in use: 2. 2.2KiB allocated for chunks. 2.2KiB in use in bin. 2.0KiB client-requested in use in bin.\n",
      "2024-10-26 20:31:32.269747: I external/local_xla/xla/tsl/framework/bfc_allocator.cc:1060] Bin (2048): \tTotal Chunks: 1, Chunks in use: 0. 3.0KiB allocated for chunks. 0B in use in bin. 0B client-requested in use in bin.\n",
      "2024-10-26 20:31:32.269755: I external/local_xla/xla/tsl/framework/bfc_allocator.cc:1060] Bin (4096): \tTotal Chunks: 3, Chunks in use: 3. 12.0KiB allocated for chunks. 12.0KiB in use in bin. 12.0KiB client-requested in use in bin.\n",
      "2024-10-26 20:31:32.269760: I external/local_xla/xla/tsl/framework/bfc_allocator.cc:1060] Bin (8192): \tTotal Chunks: 3, Chunks in use: 3. 30.0KiB allocated for chunks. 30.0KiB in use in bin. 28.1KiB client-requested in use in bin.\n",
      "2024-10-26 20:31:32.269766: I external/local_xla/xla/tsl/framework/bfc_allocator.cc:1060] Bin (16384): \tTotal Chunks: 1, Chunks in use: 1. 27.2KiB allocated for chunks. 27.2KiB in use in bin. 27.2KiB client-requested in use in bin.\n",
      "2024-10-26 20:31:32.269770: I external/local_xla/xla/tsl/framework/bfc_allocator.cc:1060] Bin (32768): \tTotal Chunks: 0, Chunks in use: 0. 0B allocated for chunks. 0B in use in bin. 0B client-requested in use in bin.\n",
      "2024-10-26 20:31:32.269775: I external/local_xla/xla/tsl/framework/bfc_allocator.cc:1060] Bin (65536): \tTotal Chunks: 0, Chunks in use: 0. 0B allocated for chunks. 0B in use in bin. 0B client-requested in use in bin.\n",
      "2024-10-26 20:31:32.269781: I external/local_xla/xla/tsl/framework/bfc_allocator.cc:1060] Bin (131072): \tTotal Chunks: 3, Chunks in use: 2. 529.8KiB allocated for chunks. 288.0KiB in use in bin. 288.0KiB client-requested in use in bin.\n",
      "2024-10-26 20:31:32.269786: I external/local_xla/xla/tsl/framework/bfc_allocator.cc:1060] Bin (262144): \tTotal Chunks: 2, Chunks in use: 2. 862.5KiB allocated for chunks. 862.5KiB in use in bin. 724.0KiB client-requested in use in bin.\n",
      "2024-10-26 20:31:32.269792: I external/local_xla/xla/tsl/framework/bfc_allocator.cc:1060] Bin (524288): \tTotal Chunks: 6, Chunks in use: 5. 3.93MiB allocated for chunks. 3.09MiB in use in bin. 2.54MiB client-requested in use in bin.\n",
      "2024-10-26 20:31:32.269797: I external/local_xla/xla/tsl/framework/bfc_allocator.cc:1060] Bin (1048576): \tTotal Chunks: 2, Chunks in use: 2. 2.35MiB allocated for chunks. 2.35MiB in use in bin. 2.35MiB client-requested in use in bin.\n",
      "2024-10-26 20:31:32.269802: I external/local_xla/xla/tsl/framework/bfc_allocator.cc:1060] Bin (2097152): \tTotal Chunks: 2, Chunks in use: 2. 4.50MiB allocated for chunks. 4.50MiB in use in bin. 3.48MiB client-requested in use in bin.\n",
      "2024-10-26 20:31:32.269814: I external/local_xla/xla/tsl/framework/bfc_allocator.cc:1060] Bin (4194304): \tTotal Chunks: 0, Chunks in use: 0. 0B allocated for chunks. 0B in use in bin. 0B client-requested in use in bin.\n",
      "2024-10-26 20:31:32.269818: I external/local_xla/xla/tsl/framework/bfc_allocator.cc:1060] Bin (8388608): \tTotal Chunks: 0, Chunks in use: 0. 0B allocated for chunks. 0B in use in bin. 0B client-requested in use in bin.\n",
      "2024-10-26 20:31:32.269823: I external/local_xla/xla/tsl/framework/bfc_allocator.cc:1060] Bin (16777216): \tTotal Chunks: 0, Chunks in use: 0. 0B allocated for chunks. 0B in use in bin. 0B client-requested in use in bin.\n",
      "2024-10-26 20:31:32.269829: I external/local_xla/xla/tsl/framework/bfc_allocator.cc:1060] Bin (33554432): \tTotal Chunks: 0, Chunks in use: 0. 0B allocated for chunks. 0B in use in bin. 0B client-requested in use in bin.\n",
      "2024-10-26 20:31:32.269835: I external/local_xla/xla/tsl/framework/bfc_allocator.cc:1060] Bin (67108864): \tTotal Chunks: 3, Chunks in use: 3. 219.27MiB allocated for chunks. 219.27MiB in use in bin. 187.05MiB client-requested in use in bin.\n",
      "2024-10-26 20:31:32.269841: I external/local_xla/xla/tsl/framework/bfc_allocator.cc:1060] Bin (134217728): \tTotal Chunks: 1, Chunks in use: 1. 145.88MiB allocated for chunks. 145.88MiB in use in bin. 73.50MiB client-requested in use in bin.\n",
      "2024-10-26 20:31:32.269846: I external/local_xla/xla/tsl/framework/bfc_allocator.cc:1060] Bin (268435456): \tTotal Chunks: 3, Chunks in use: 2. 5.06GiB allocated for chunks. 3.61GiB in use in bin. 3.61GiB client-requested in use in bin.\n",
      "2024-10-26 20:31:32.269852: I external/local_xla/xla/tsl/framework/bfc_allocator.cc:1076] Bin for 2.12GiB was 256.00MiB, Chunk State: \n",
      "2024-10-26 20:31:32.269864: I external/local_xla/xla/tsl/framework/bfc_allocator.cc:1082]   Size: 1.45GiB | Requested Size: 38.00MiB | in_use: 0 | bin_num: 20, prev:   Size: 1.81GiB | Requested Size: 1.81GiB | in_use: 1 | bin_num: -1\n",
      "2024-10-26 20:31:32.269869: I external/local_xla/xla/tsl/framework/bfc_allocator.cc:1089] Next region of size 5833228288\n",
      "2024-10-26 20:31:32.269877: I external/local_xla/xla/tsl/framework/bfc_allocator.cc:1109] InUse at 705600000 of size 256 next 1\n",
      "2024-10-26 20:31:32.269882: I external/local_xla/xla/tsl/framework/bfc_allocator.cc:1109] InUse at 705600100 of size 1280 next 2\n",
      "2024-10-26 20:31:32.269886: I external/local_xla/xla/tsl/framework/bfc_allocator.cc:1109] InUse at 705600600 of size 256 next 3\n",
      "2024-10-26 20:31:32.269889: I external/local_xla/xla/tsl/framework/bfc_allocator.cc:1109] InUse at 705600700 of size 256 next 4\n",
      "2024-10-26 20:31:32.269893: I external/local_xla/xla/tsl/framework/bfc_allocator.cc:1109] InUse at 705600800 of size 256 next 5\n",
      "2024-10-26 20:31:32.269897: I external/local_xla/xla/tsl/framework/bfc_allocator.cc:1109] InUse at 705600900 of size 256 next 7\n",
      "2024-10-26 20:31:32.269901: I external/local_xla/xla/tsl/framework/bfc_allocator.cc:1109] InUse at 705600a00 of size 256 next 8\n",
      "2024-10-26 20:31:32.269904: I external/local_xla/xla/tsl/framework/bfc_allocator.cc:1109] InUse at 705600b00 of size 256 next 6\n",
      "2024-10-26 20:31:32.269909: I external/local_xla/xla/tsl/framework/bfc_allocator.cc:1109] InUse at 705600c00 of size 512 next 49\n",
      "2024-10-26 20:31:32.269913: I external/local_xla/xla/tsl/framework/bfc_allocator.cc:1109] InUse at 705600e00 of size 256 next 55\n",
      "2024-10-26 20:31:32.269917: I external/local_xla/xla/tsl/framework/bfc_allocator.cc:1109] InUse at 705600f00 of size 256 next 9\n",
      "2024-10-26 20:31:32.269920: I external/local_xla/xla/tsl/framework/bfc_allocator.cc:1109] InUse at 705601000 of size 256 next 14\n",
      "2024-10-26 20:31:32.269924: I external/local_xla/xla/tsl/framework/bfc_allocator.cc:1109] InUse at 705601100 of size 256 next 12\n",
      "2024-10-26 20:31:32.269928: I external/local_xla/xla/tsl/framework/bfc_allocator.cc:1109] InUse at 705601200 of size 512 next 56\n",
      "2024-10-26 20:31:32.269932: I external/local_xla/xla/tsl/framework/bfc_allocator.cc:1109] InUse at 705601400 of size 512 next 13\n",
      "2024-10-26 20:31:32.269935: I external/local_xla/xla/tsl/framework/bfc_allocator.cc:1109] InUse at 705601600 of size 256 next 19\n",
      "2024-10-26 20:31:32.269939: I external/local_xla/xla/tsl/framework/bfc_allocator.cc:1109] InUse at 705601700 of size 256 next 17\n",
      "2024-10-26 20:31:32.269943: I external/local_xla/xla/tsl/framework/bfc_allocator.cc:1109] InUse at 705601800 of size 256 next 47\n",
      "2024-10-26 20:31:32.269947: I external/local_xla/xla/tsl/framework/bfc_allocator.cc:1109] InUse at 705601900 of size 256 next 18\n",
      "2024-10-26 20:31:32.269950: I external/local_xla/xla/tsl/framework/bfc_allocator.cc:1109] InUse at 705601a00 of size 256 next 24\n",
      "2024-10-26 20:31:32.269955: I external/local_xla/xla/tsl/framework/bfc_allocator.cc:1109] InUse at 705601b00 of size 256 next 22\n",
      "2024-10-26 20:31:32.269959: I external/local_xla/xla/tsl/framework/bfc_allocator.cc:1109] InUse at 705601c00 of size 4096 next 23\n",
      "2024-10-26 20:31:32.269963: I external/local_xla/xla/tsl/framework/bfc_allocator.cc:1109] InUse at 705602c00 of size 256 next 29\n",
      "2024-10-26 20:31:32.269966: I external/local_xla/xla/tsl/framework/bfc_allocator.cc:1109] InUse at 705602d00 of size 256 next 27\n",
      "2024-10-26 20:31:32.269970: I external/local_xla/xla/tsl/framework/bfc_allocator.cc:1109] InUse at 705602e00 of size 256 next 10\n",
      "2024-10-26 20:31:32.269974: I external/local_xla/xla/tsl/framework/bfc_allocator.cc:1109] InUse at 705602f00 of size 256 next 28\n",
      "2024-10-26 20:31:32.269977: I external/local_xla/xla/tsl/framework/bfc_allocator.cc:1109] InUse at 705603000 of size 256 next 32\n",
      "2024-10-26 20:31:32.269981: I external/local_xla/xla/tsl/framework/bfc_allocator.cc:1109] InUse at 705603100 of size 256 next 33\n",
      "2024-10-26 20:31:32.269985: I external/local_xla/xla/tsl/framework/bfc_allocator.cc:1109] InUse at 705603200 of size 512 next 36\n",
      "2024-10-26 20:31:32.269988: I external/local_xla/xla/tsl/framework/bfc_allocator.cc:1109] InUse at 705603400 of size 256 next 37\n",
      "2024-10-26 20:31:32.269992: I external/local_xla/xla/tsl/framework/bfc_allocator.cc:1109] InUse at 705603500 of size 256 next 39\n",
      "2024-10-26 20:31:32.269996: I external/local_xla/xla/tsl/framework/bfc_allocator.cc:1109] InUse at 705603600 of size 4096 next 41\n",
      "2024-10-26 20:31:32.269999: I external/local_xla/xla/tsl/framework/bfc_allocator.cc:1109] InUse at 705604600 of size 512 next 42\n",
      "2024-10-26 20:31:32.270003: I external/local_xla/xla/tsl/framework/bfc_allocator.cc:1109] InUse at 705604800 of size 256 next 43\n",
      "2024-10-26 20:31:32.270008: I external/local_xla/xla/tsl/framework/bfc_allocator.cc:1109] InUse at 705604900 of size 256 next 44\n",
      "2024-10-26 20:31:32.270011: I external/local_xla/xla/tsl/framework/bfc_allocator.cc:1109] InUse at 705604a00 of size 1024 next 45\n",
      "2024-10-26 20:31:32.270015: I external/local_xla/xla/tsl/framework/bfc_allocator.cc:1109] InUse at 705604e00 of size 512 next 50\n",
      "2024-10-26 20:31:32.270019: I external/local_xla/xla/tsl/framework/bfc_allocator.cc:1109] InUse at 705605000 of size 256 next 51\n",
      "2024-10-26 20:31:32.270028: I external/local_xla/xla/tsl/framework/bfc_allocator.cc:1109] InUse at 705605100 of size 256 next 53\n",
      "2024-10-26 20:31:32.270032: I external/local_xla/xla/tsl/framework/bfc_allocator.cc:1109] InUse at 705605200 of size 11264 next 11\n",
      "2024-10-26 20:31:32.270036: I external/local_xla/xla/tsl/framework/bfc_allocator.cc:1109] InUse at 705607e00 of size 589824 next 16\n",
      "2024-10-26 20:31:32.270042: I external/local_xla/xla/tsl/framework/bfc_allocator.cc:1109] InUse at 705697e00 of size 512 next 59\n",
      "2024-10-26 20:31:32.270046: I external/local_xla/xla/tsl/framework/bfc_allocator.cc:1109] InUse at 705698000 of size 4096 next 66\n",
      "2024-10-26 20:31:32.270050: I external/local_xla/xla/tsl/framework/bfc_allocator.cc:1109] InUse at 705699000 of size 512 next 67\n",
      "2024-10-26 20:31:32.270053: I external/local_xla/xla/tsl/framework/bfc_allocator.cc:1109] InUse at 705699200 of size 512 next 68\n",
      "2024-10-26 20:31:32.270057: I external/local_xla/xla/tsl/framework/bfc_allocator.cc:1109] InUse at 705699400 of size 512 next 73\n",
      "2024-10-26 20:31:32.270061: I external/local_xla/xla/tsl/framework/bfc_allocator.cc:1109] InUse at 705699600 of size 256 next 70\n",
      "2024-10-26 20:31:32.270064: I external/local_xla/xla/tsl/framework/bfc_allocator.cc:1109] InUse at 705699700 of size 256 next 74\n",
      "2024-10-26 20:31:32.270069: I external/local_xla/xla/tsl/framework/bfc_allocator.cc:1109] Free  at 705699800 of size 3072 next 21\n",
      "2024-10-26 20:31:32.270073: I external/local_xla/xla/tsl/framework/bfc_allocator.cc:1109] InUse at 70569a400 of size 9728 next 48\n",
      "2024-10-26 20:31:32.270078: I external/local_xla/xla/tsl/framework/bfc_allocator.cc:1109] InUse at 70569ca00 of size 27904 next 69\n",
      "2024-10-26 20:31:32.270083: I external/local_xla/xla/tsl/framework/bfc_allocator.cc:1109] Free  at 7056a3700 of size 247552 next 15\n",
      "2024-10-26 20:31:32.270086: I external/local_xla/xla/tsl/framework/bfc_allocator.cc:1109] InUse at 7056dfe00 of size 2359296 next 26\n",
      "2024-10-26 20:31:32.270091: I external/local_xla/xla/tsl/framework/bfc_allocator.cc:1109] InUse at 70591fe00 of size 147456 next 54\n",
      "2024-10-26 20:31:32.270095: I external/local_xla/xla/tsl/framework/bfc_allocator.cc:1109] InUse at 705943e00 of size 147456 next 52\n",
      "2024-10-26 20:31:32.270099: I external/local_xla/xla/tsl/framework/bfc_allocator.cc:1109] Free  at 705967e00 of size 884736 next 25\n",
      "2024-10-26 20:31:32.270103: I external/local_xla/xla/tsl/framework/bfc_allocator.cc:1109] InUse at 705a3fe00 of size 9728 next 34\n",
      "2024-10-26 20:31:32.270106: I external/local_xla/xla/tsl/framework/bfc_allocator.cc:1109] InUse at 705a42400 of size 436736 next 35\n",
      "2024-10-26 20:31:32.270110: I external/local_xla/xla/tsl/framework/bfc_allocator.cc:1109] InUse at 705aace00 of size 589824 next 58\n",
      "2024-10-26 20:31:32.270114: I external/local_xla/xla/tsl/framework/bfc_allocator.cc:1109] InUse at 705b3ce00 of size 589824 next 57\n",
      "2024-10-26 20:31:32.270118: I external/local_xla/xla/tsl/framework/bfc_allocator.cc:1109] InUse at 705bcce00 of size 589824 next 60\n",
      "2024-10-26 20:31:32.270122: I external/local_xla/xla/tsl/framework/bfc_allocator.cc:1109] InUse at 705c5ce00 of size 446464 next 63\n",
      "2024-10-26 20:31:32.270126: I external/local_xla/xla/tsl/framework/bfc_allocator.cc:1109] InUse at 705cc9e00 of size 876544 next 20\n",
      "2024-10-26 20:31:32.270130: I external/local_xla/xla/tsl/framework/bfc_allocator.cc:1109] InUse at 705d9fe00 of size 1179648 next 40\n",
      "2024-10-26 20:31:32.270135: I external/local_xla/xla/tsl/framework/bfc_allocator.cc:1109] InUse at 705ebfe00 of size 152961024 next 31\n",
      "2024-10-26 20:31:32.270139: I external/local_xla/xla/tsl/framework/bfc_allocator.cc:1109] InUse at 70f09fe00 of size 1288960 next 65\n",
      "2024-10-26 20:31:32.270143: I external/local_xla/xla/tsl/framework/bfc_allocator.cc:1109] InUse at 70f1da900 of size 75781376 next 30\n",
      "2024-10-26 20:31:32.270147: I external/local_xla/xla/tsl/framework/bfc_allocator.cc:1109] InUse at 713a1fe00 of size 1939750912 next 38\n",
      "2024-10-26 20:31:32.270150: I external/local_xla/xla/tsl/framework/bfc_allocator.cc:1109] InUse at 787403e00 of size 2359296 next 46\n",
      "2024-10-26 20:31:32.270154: I external/local_xla/xla/tsl/framework/bfc_allocator.cc:1109] InUse at 787643e00 of size 77070336 next 62\n",
      "2024-10-26 20:31:32.270158: I external/local_xla/xla/tsl/framework/bfc_allocator.cc:1109] InUse at 78bfc3e00 of size 77070336 next 61\n",
      "2024-10-26 20:31:32.270161: I external/local_xla/xla/tsl/framework/bfc_allocator.cc:1109] InUse at 790943e00 of size 1939750912 next 64\n",
      "2024-10-26 20:31:32.270166: I external/local_xla/xla/tsl/framework/bfc_allocator.cc:1109] Free  at 804327e00 of size 1558020608 next 18446744073709551615\n",
      "2024-10-26 20:31:32.270170: I external/local_xla/xla/tsl/framework/bfc_allocator.cc:1114]      Summary of in-use Chunks by size: \n",
      "2024-10-26 20:31:32.270175: I external/local_xla/xla/tsl/framework/bfc_allocator.cc:1117] 31 Chunks of size 256 totalling 7.8KiB\n",
      "2024-10-26 20:31:32.270180: I external/local_xla/xla/tsl/framework/bfc_allocator.cc:1117] 10 Chunks of size 512 totalling 5.0KiB\n",
      "2024-10-26 20:31:32.270184: I external/local_xla/xla/tsl/framework/bfc_allocator.cc:1117] 1 Chunks of size 1024 totalling 1.0KiB\n",
      "2024-10-26 20:31:32.270188: I external/local_xla/xla/tsl/framework/bfc_allocator.cc:1117] 1 Chunks of size 1280 totalling 1.2KiB\n",
      "2024-10-26 20:31:32.270192: I external/local_xla/xla/tsl/framework/bfc_allocator.cc:1117] 3 Chunks of size 4096 totalling 12.0KiB\n",
      "2024-10-26 20:31:32.270196: I external/local_xla/xla/tsl/framework/bfc_allocator.cc:1117] 2 Chunks of size 9728 totalling 19.0KiB\n",
      "2024-10-26 20:31:32.270200: I external/local_xla/xla/tsl/framework/bfc_allocator.cc:1117] 1 Chunks of size 11264 totalling 11.0KiB\n",
      "2024-10-26 20:31:32.270205: I external/local_xla/xla/tsl/framework/bfc_allocator.cc:1117] 1 Chunks of size 27904 totalling 27.2KiB\n",
      "2024-10-26 20:31:32.270209: I external/local_xla/xla/tsl/framework/bfc_allocator.cc:1117] 2 Chunks of size 147456 totalling 288.0KiB\n",
      "2024-10-26 20:31:32.270213: I external/local_xla/xla/tsl/framework/bfc_allocator.cc:1117] 1 Chunks of size 436736 totalling 426.5KiB\n",
      "2024-10-26 20:31:32.270217: I external/local_xla/xla/tsl/framework/bfc_allocator.cc:1117] 1 Chunks of size 446464 totalling 436.0KiB\n",
      "2024-10-26 20:31:32.270221: I external/local_xla/xla/tsl/framework/bfc_allocator.cc:1117] 4 Chunks of size 589824 totalling 2.25MiB\n",
      "2024-10-26 20:31:32.270225: I external/local_xla/xla/tsl/framework/bfc_allocator.cc:1117] 1 Chunks of size 876544 totalling 856.0KiB\n",
      "2024-10-26 20:31:32.270229: I external/local_xla/xla/tsl/framework/bfc_allocator.cc:1117] 1 Chunks of size 1179648 totalling 1.12MiB\n",
      "2024-10-26 20:31:32.270233: I external/local_xla/xla/tsl/framework/bfc_allocator.cc:1117] 1 Chunks of size 1288960 totalling 1.23MiB\n",
      "2024-10-26 20:31:32.270237: I external/local_xla/xla/tsl/framework/bfc_allocator.cc:1117] 2 Chunks of size 2359296 totalling 4.50MiB\n",
      "2024-10-26 20:31:32.270241: I external/local_xla/xla/tsl/framework/bfc_allocator.cc:1117] 1 Chunks of size 75781376 totalling 72.27MiB\n",
      "2024-10-26 20:31:32.270245: I external/local_xla/xla/tsl/framework/bfc_allocator.cc:1117] 2 Chunks of size 77070336 totalling 147.00MiB\n",
      "2024-10-26 20:31:32.270249: I external/local_xla/xla/tsl/framework/bfc_allocator.cc:1117] 1 Chunks of size 152961024 totalling 145.88MiB\n",
      "2024-10-26 20:31:32.270326: I external/local_xla/xla/tsl/framework/bfc_allocator.cc:1117] 2 Chunks of size 1939750912 totalling 3.61GiB\n",
      "2024-10-26 20:31:32.270335: I external/local_xla/xla/tsl/framework/bfc_allocator.cc:1121] Sum Total of in-use chunks: 3.98GiB\n",
      "2024-10-26 20:31:32.270340: I external/local_xla/xla/tsl/framework/bfc_allocator.cc:1123] Total bytes in pool: 5833228288 memory_limit_: 5833228288 available bytes: 0 curr_region_allocation_bytes_: 11666456576\n",
      "2024-10-26 20:31:32.270353: I external/local_xla/xla/tsl/framework/bfc_allocator.cc:1128] Stats: \n",
      "Limit:                      5833228288\n",
      "InUse:                      4274072320\n",
      "MaxInUse:                   5502368000\n",
      "NumAllocs:                         840\n",
      "MaxAllocSize:               1939750912\n",
      "Reserved:                            0\n",
      "PeakReserved:                        0\n",
      "LargestFreeBlock:                    0\n",
      "\n",
      "2024-10-26 20:31:32.270364: W external/local_xla/xla/tsl/framework/bfc_allocator.cc:508] **************************************************************************__________________________\n",
      "2024-10-26 20:31:32.270486: I tensorflow/core/framework/local_rendezvous.cc:405] Local rendezvous is aborting with status: RESOURCE_EXHAUSTED: Out of memory while trying to allocate 2281646560 bytes.\n",
      "\t [[{{node StatefulPartitionedCall}}]]\n",
      "Hint: If you want to see a list of allocated tensors when OOM happens, add report_tensor_allocations_upon_oom to RunOptions for current allocation info. This isn't available when running in Eager mode.\n",
      "\n"
     ]
    },
    {
     "ename": "ResourceExhaustedError",
     "evalue": "Graph execution error:\n\nDetected at node StatefulPartitionedCall defined at (most recent call last):\n  File \"/usr/lib/python3.10/runpy.py\", line 196, in _run_module_as_main\n\n  File \"/usr/lib/python3.10/runpy.py\", line 86, in _run_code\n\n  File \"/home/chocolate_cake/.local/lib/python3.10/site-packages/ipykernel_launcher.py\", line 18, in <module>\n\n  File \"/home/chocolate_cake/.local/lib/python3.10/site-packages/traitlets/config/application.py\", line 1075, in launch_instance\n\n  File \"/home/chocolate_cake/.local/lib/python3.10/site-packages/ipykernel/kernelapp.py\", line 739, in start\n\n  File \"/home/chocolate_cake/.local/lib/python3.10/site-packages/tornado/platform/asyncio.py\", line 205, in start\n\n  File \"/usr/lib/python3.10/asyncio/base_events.py\", line 603, in run_forever\n\n  File \"/usr/lib/python3.10/asyncio/base_events.py\", line 1909, in _run_once\n\n  File \"/usr/lib/python3.10/asyncio/events.py\", line 80, in _run\n\n  File \"/home/chocolate_cake/.local/lib/python3.10/site-packages/ipykernel/kernelbase.py\", line 545, in dispatch_queue\n\n  File \"/home/chocolate_cake/.local/lib/python3.10/site-packages/ipykernel/kernelbase.py\", line 534, in process_one\n\n  File \"/home/chocolate_cake/.local/lib/python3.10/site-packages/ipykernel/kernelbase.py\", line 437, in dispatch_shell\n\n  File \"/home/chocolate_cake/.local/lib/python3.10/site-packages/ipykernel/ipkernel.py\", line 362, in execute_request\n\n  File \"/home/chocolate_cake/.local/lib/python3.10/site-packages/ipykernel/kernelbase.py\", line 778, in execute_request\n\n  File \"/home/chocolate_cake/.local/lib/python3.10/site-packages/ipykernel/ipkernel.py\", line 449, in do_execute\n\n  File \"/home/chocolate_cake/.local/lib/python3.10/site-packages/ipykernel/zmqshell.py\", line 549, in run_cell\n\n  File \"/home/chocolate_cake/.local/lib/python3.10/site-packages/IPython/core/interactiveshell.py\", line 3075, in run_cell\n\n  File \"/home/chocolate_cake/.local/lib/python3.10/site-packages/IPython/core/interactiveshell.py\", line 3130, in _run_cell\n\n  File \"/home/chocolate_cake/.local/lib/python3.10/site-packages/IPython/core/async_helpers.py\", line 128, in _pseudo_sync_runner\n\n  File \"/home/chocolate_cake/.local/lib/python3.10/site-packages/IPython/core/interactiveshell.py\", line 3334, in run_cell_async\n\n  File \"/home/chocolate_cake/.local/lib/python3.10/site-packages/IPython/core/interactiveshell.py\", line 3517, in run_ast_nodes\n\n  File \"/home/chocolate_cake/.local/lib/python3.10/site-packages/IPython/core/interactiveshell.py\", line 3577, in run_code\n\n  File \"/tmp/ipykernel_33683/244708203.py\", line 1, in <module>\n\n  File \"/home/chocolate_cake/.local/lib/python3.10/site-packages/keras/src/utils/traceback_utils.py\", line 117, in error_handler\n\n  File \"/home/chocolate_cake/.local/lib/python3.10/site-packages/keras/src/backend/tensorflow/trainer.py\", line 320, in fit\n\n  File \"/home/chocolate_cake/.local/lib/python3.10/site-packages/keras/src/backend/tensorflow/trainer.py\", line 121, in one_step_on_iterator\n\nOut of memory while trying to allocate 2281646560 bytes.\n\t [[{{node StatefulPartitionedCall}}]]\nHint: If you want to see a list of allocated tensors when OOM happens, add report_tensor_allocations_upon_oom to RunOptions for current allocation info. This isn't available when running in Eager mode.\n [Op:__inference_one_step_on_iterator_4740]",
     "output_type": "error",
     "traceback": [
      "\u001b[0;31m---------------------------------------------------------------------------\u001b[0m",
      "\u001b[0;31mResourceExhaustedError\u001b[0m                    Traceback (most recent call last)",
      "Cell \u001b[0;32mIn[10], line 1\u001b[0m\n\u001b[0;32m----> 1\u001b[0m hist \u001b[38;5;241m=\u001b[39m \u001b[43mmodel\u001b[49m\u001b[38;5;241;43m.\u001b[39;49m\u001b[43mfit\u001b[49m\u001b[43m(\u001b[49m\u001b[43mx_train_norm\u001b[49m\u001b[43m,\u001b[49m\u001b[43m \u001b[49m\u001b[43my_train_encoded\u001b[49m\u001b[43m,\u001b[49m\u001b[43m \u001b[49m\u001b[43mvalidation_data\u001b[49m\u001b[38;5;241;43m=\u001b[39;49m\u001b[43m(\u001b[49m\u001b[43mx_test_norm\u001b[49m\u001b[43m,\u001b[49m\u001b[43m \u001b[49m\u001b[43my_test_encoded\u001b[49m\u001b[43m)\u001b[49m\u001b[43m,\u001b[49m\u001b[43m \u001b[49m\u001b[43mbatch_size\u001b[49m\u001b[38;5;241;43m=\u001b[39;49m\u001b[38;5;241;43m64\u001b[39;49m\u001b[43m,\u001b[49m\u001b[43m \u001b[49m\u001b[43mepochs\u001b[49m\u001b[38;5;241;43m=\u001b[39;49m\u001b[38;5;241;43m100\u001b[39;49m\u001b[43m)\u001b[49m\n",
      "File \u001b[0;32m~/.local/lib/python3.10/site-packages/keras/src/utils/traceback_utils.py:122\u001b[0m, in \u001b[0;36mfilter_traceback.<locals>.error_handler\u001b[0;34m(*args, **kwargs)\u001b[0m\n\u001b[1;32m    119\u001b[0m     filtered_tb \u001b[38;5;241m=\u001b[39m _process_traceback_frames(e\u001b[38;5;241m.\u001b[39m__traceback__)\n\u001b[1;32m    120\u001b[0m     \u001b[38;5;66;03m# To get the full stack trace, call:\u001b[39;00m\n\u001b[1;32m    121\u001b[0m     \u001b[38;5;66;03m# `keras.config.disable_traceback_filtering()`\u001b[39;00m\n\u001b[0;32m--> 122\u001b[0m     \u001b[38;5;28;01mraise\u001b[39;00m e\u001b[38;5;241m.\u001b[39mwith_traceback(filtered_tb) \u001b[38;5;28;01mfrom\u001b[39;00m \u001b[38;5;28;01mNone\u001b[39;00m\n\u001b[1;32m    123\u001b[0m \u001b[38;5;28;01mfinally\u001b[39;00m:\n\u001b[1;32m    124\u001b[0m     \u001b[38;5;28;01mdel\u001b[39;00m filtered_tb\n",
      "File \u001b[0;32m~/.local/lib/python3.10/site-packages/tensorflow/python/eager/execute.py:53\u001b[0m, in \u001b[0;36mquick_execute\u001b[0;34m(op_name, num_outputs, inputs, attrs, ctx, name)\u001b[0m\n\u001b[1;32m     51\u001b[0m \u001b[38;5;28;01mtry\u001b[39;00m:\n\u001b[1;32m     52\u001b[0m   ctx\u001b[38;5;241m.\u001b[39mensure_initialized()\n\u001b[0;32m---> 53\u001b[0m   tensors \u001b[38;5;241m=\u001b[39m pywrap_tfe\u001b[38;5;241m.\u001b[39mTFE_Py_Execute(ctx\u001b[38;5;241m.\u001b[39m_handle, device_name, op_name,\n\u001b[1;32m     54\u001b[0m                                       inputs, attrs, num_outputs)\n\u001b[1;32m     55\u001b[0m \u001b[38;5;28;01mexcept\u001b[39;00m core\u001b[38;5;241m.\u001b[39m_NotOkStatusException \u001b[38;5;28;01mas\u001b[39;00m e:\n\u001b[1;32m     56\u001b[0m   \u001b[38;5;28;01mif\u001b[39;00m name \u001b[38;5;129;01mis\u001b[39;00m \u001b[38;5;129;01mnot\u001b[39;00m \u001b[38;5;28;01mNone\u001b[39;00m:\n",
      "\u001b[0;31mResourceExhaustedError\u001b[0m: Graph execution error:\n\nDetected at node StatefulPartitionedCall defined at (most recent call last):\n  File \"/usr/lib/python3.10/runpy.py\", line 196, in _run_module_as_main\n\n  File \"/usr/lib/python3.10/runpy.py\", line 86, in _run_code\n\n  File \"/home/chocolate_cake/.local/lib/python3.10/site-packages/ipykernel_launcher.py\", line 18, in <module>\n\n  File \"/home/chocolate_cake/.local/lib/python3.10/site-packages/traitlets/config/application.py\", line 1075, in launch_instance\n\n  File \"/home/chocolate_cake/.local/lib/python3.10/site-packages/ipykernel/kernelapp.py\", line 739, in start\n\n  File \"/home/chocolate_cake/.local/lib/python3.10/site-packages/tornado/platform/asyncio.py\", line 205, in start\n\n  File \"/usr/lib/python3.10/asyncio/base_events.py\", line 603, in run_forever\n\n  File \"/usr/lib/python3.10/asyncio/base_events.py\", line 1909, in _run_once\n\n  File \"/usr/lib/python3.10/asyncio/events.py\", line 80, in _run\n\n  File \"/home/chocolate_cake/.local/lib/python3.10/site-packages/ipykernel/kernelbase.py\", line 545, in dispatch_queue\n\n  File \"/home/chocolate_cake/.local/lib/python3.10/site-packages/ipykernel/kernelbase.py\", line 534, in process_one\n\n  File \"/home/chocolate_cake/.local/lib/python3.10/site-packages/ipykernel/kernelbase.py\", line 437, in dispatch_shell\n\n  File \"/home/chocolate_cake/.local/lib/python3.10/site-packages/ipykernel/ipkernel.py\", line 362, in execute_request\n\n  File \"/home/chocolate_cake/.local/lib/python3.10/site-packages/ipykernel/kernelbase.py\", line 778, in execute_request\n\n  File \"/home/chocolate_cake/.local/lib/python3.10/site-packages/ipykernel/ipkernel.py\", line 449, in do_execute\n\n  File \"/home/chocolate_cake/.local/lib/python3.10/site-packages/ipykernel/zmqshell.py\", line 549, in run_cell\n\n  File \"/home/chocolate_cake/.local/lib/python3.10/site-packages/IPython/core/interactiveshell.py\", line 3075, in run_cell\n\n  File \"/home/chocolate_cake/.local/lib/python3.10/site-packages/IPython/core/interactiveshell.py\", line 3130, in _run_cell\n\n  File \"/home/chocolate_cake/.local/lib/python3.10/site-packages/IPython/core/async_helpers.py\", line 128, in _pseudo_sync_runner\n\n  File \"/home/chocolate_cake/.local/lib/python3.10/site-packages/IPython/core/interactiveshell.py\", line 3334, in run_cell_async\n\n  File \"/home/chocolate_cake/.local/lib/python3.10/site-packages/IPython/core/interactiveshell.py\", line 3517, in run_ast_nodes\n\n  File \"/home/chocolate_cake/.local/lib/python3.10/site-packages/IPython/core/interactiveshell.py\", line 3577, in run_code\n\n  File \"/tmp/ipykernel_33683/244708203.py\", line 1, in <module>\n\n  File \"/home/chocolate_cake/.local/lib/python3.10/site-packages/keras/src/utils/traceback_utils.py\", line 117, in error_handler\n\n  File \"/home/chocolate_cake/.local/lib/python3.10/site-packages/keras/src/backend/tensorflow/trainer.py\", line 320, in fit\n\n  File \"/home/chocolate_cake/.local/lib/python3.10/site-packages/keras/src/backend/tensorflow/trainer.py\", line 121, in one_step_on_iterator\n\nOut of memory while trying to allocate 2281646560 bytes.\n\t [[{{node StatefulPartitionedCall}}]]\nHint: If you want to see a list of allocated tensors when OOM happens, add report_tensor_allocations_upon_oom to RunOptions for current allocation info. This isn't available when running in Eager mode.\n [Op:__inference_one_step_on_iterator_4740]"
     ]
    }
   ],
   "source": [
    "hist = model.fit(x_train_norm, y_train_encoded, validation_data=(x_test_norm, y_test_encoded), batch_size=64, epochs=100)"
   ]
  },
  {
   "cell_type": "code",
   "execution_count": null,
   "metadata": {},
   "outputs": [],
   "source": [
    "acc = hist.history['accuracy']\n",
    "val_acc = hist.history['val_accuracy']\n",
    "epochs = range(1, len(acc) + 1)\n",
    "\n",
    "plt.plot(epochs, acc, '-', label='Training Accuracy')\n",
    "plt.plot(epochs, val_acc, ':', label='Validation Accuracy')\n",
    "plt.title('Training and Validation Accuracy')\n",
    "plt.xlabel('Epoch')\n",
    "plt.ylabel('Accuracy')\n",
    "plt.legend(loc='lower right')\n",
    "plt.plot()"
   ]
  },
  {
   "cell_type": "code",
   "execution_count": 8,
   "metadata": {},
   "outputs": [
    {
     "name": "stderr",
     "output_type": "stream",
     "text": [
      "/tmp/ipykernel_29450/3710440001.py:4: UserWarning: `input_shape` is undefined or non-square, or `rows` is not in [96, 128, 160, 192, 224]. Weights for input shape (224, 224) will be loaded as the default.\n",
      "  base_model = MobileNetV2(weights='imagenet', include_top=False, input_shape=(372, 147, 3))\n",
      "WARNING: All log messages before absl::InitializeLog() is called are written to STDERR\n",
      "I0000 00:00:1729988601.274145   29901 service.cc:148] XLA service 0x7f6a58004240 initialized for platform CUDA (this does not guarantee that XLA will be used). Devices:\n",
      "I0000 00:00:1729988601.274211   29901 service.cc:156]   StreamExecutor device (0): NVIDIA GeForce RTX 4060 Laptop GPU, Compute Capability 8.9\n",
      "2024-10-26 20:23:21.320181: I tensorflow/compiler/mlir/tensorflow/utils/dump_mlir_util.cc:268] disabling MLIR crash reproducer, set env var `MLIR_CRASH_REPRODUCER_DIRECTORY` to enable.\n",
      "I0000 00:00:1729988601.743104   29901 cuda_dnn.cc:529] Loaded cuDNN version 90300\n"
     ]
    },
    {
     "name": "stdout",
     "output_type": "stream",
     "text": [
      "\u001b[1m 7/93\u001b[0m \u001b[32m━\u001b[0m\u001b[37m━━━━━━━━━━━━━━━━━━━\u001b[0m \u001b[1m2s\u001b[0m 28ms/step"
     ]
    },
    {
     "name": "stderr",
     "output_type": "stream",
     "text": [
      "I0000 00:00:1729988610.586018   29901 device_compiler.h:188] Compiled cluster using XLA!  This line is logged at most once for the lifetime of the process.\n"
     ]
    },
    {
     "name": "stdout",
     "output_type": "stream",
     "text": [
      "\u001b[1m93/93\u001b[0m \u001b[32m━━━━━━━━━━━━━━━━━━━━\u001b[0m\u001b[37m\u001b[0m \u001b[1m20s\u001b[0m 103ms/step\n",
      "\u001b[1m40/40\u001b[0m \u001b[32m━━━━━━━━━━━━━━━━━━━━\u001b[0m\u001b[37m\u001b[0m \u001b[1m9s\u001b[0m 227ms/step\n"
     ]
    }
   ],
   "source": [
    "from tensorflow.keras.applications import MobileNetV2\n",
    "from tensorflow.keras.applications.mobilenet import preprocess_input\n",
    "\n",
    "base_model = MobileNetV2(weights='imagenet', include_top=False, input_shape=(372, 147, 3))\n",
    "\n",
    "x_train_norm = preprocess_input(np.array(x_train))\n",
    "x_test_norm = preprocess_input(np.array(x_test))\n",
    "\n",
    "train_features = base_model.predict(x_train_norm)\n",
    "test_features = base_model.predict(x_test_norm)"
   ]
  },
  {
   "cell_type": "code",
   "execution_count": 9,
   "metadata": {},
   "outputs": [
    {
     "name": "stderr",
     "output_type": "stream",
     "text": [
      "/home/chocolate_cake/.local/lib/python3.10/site-packages/keras/src/layers/reshaping/flatten.py:37: UserWarning: Do not pass an `input_shape`/`input_dim` argument to a layer. When using Sequential models, prefer using an `Input(shape)` object as the first layer in the model instead.\n",
      "  super().__init__(**kwargs)\n"
     ]
    }
   ],
   "source": [
    "model = Sequential()\n",
    "model.add(Flatten(input_shape=train_features.shape[1:]))\n",
    "model.add(Dense(1024, activation='relu'))\n",
    "model.add(Dense(109, activation='softmax'))\n",
    "model.compile(optimizer='adam', loss='categorical_crossentropy', metrics=['accuracy'])"
   ]
  },
  {
   "cell_type": "code",
   "execution_count": 10,
   "metadata": {},
   "outputs": [
    {
     "name": "stdout",
     "output_type": "stream",
     "text": [
      "Epoch 1/10\n"
     ]
    },
    {
     "name": "stderr",
     "output_type": "stream",
     "text": [
      "2024-10-26 20:23:55.347740: I external/local_xla/xla/stream_executor/cuda/cuda_asm_compiler.cc:397] ptxas warning : Registers are spilled to local memory in function 'gemm_fusion_dot_237', 104 bytes spill stores, 104 bytes spill loads\n",
      "\n",
      "2024-10-26 20:23:55.487885: I external/local_xla/xla/stream_executor/cuda/cuda_asm_compiler.cc:397] ptxas warning : Registers are spilled to local memory in function 'gemm_fusion_dot_121', 164 bytes spill stores, 148 bytes spill loads\n",
      "\n",
      "2024-10-26 20:23:55.703765: I external/local_xla/xla/stream_executor/cuda/cuda_asm_compiler.cc:397] ptxas warning : Registers are spilled to local memory in function 'gemm_fusion_dot_121', 4 bytes spill stores, 4 bytes spill loads\n",
      "\n",
      "2024-10-26 20:23:55.718387: I external/local_xla/xla/stream_executor/cuda/cuda_asm_compiler.cc:397] ptxas warning : Registers are spilled to local memory in function 'gemm_fusion_dot_256', 564 bytes spill stores, 564 bytes spill loads\n",
      "\n",
      "2024-10-26 20:23:55.785925: I external/local_xla/xla/stream_executor/cuda/cuda_asm_compiler.cc:397] ptxas warning : Registers are spilled to local memory in function 'gemm_fusion_dot_256', 628 bytes spill stores, 628 bytes spill loads\n",
      "\n",
      "2024-10-26 20:23:55.934764: I external/local_xla/xla/stream_executor/cuda/cuda_asm_compiler.cc:397] ptxas warning : Registers are spilled to local memory in function 'gemm_fusion_dot_121', 224 bytes spill stores, 224 bytes spill loads\n",
      "\n"
     ]
    },
    {
     "name": "stdout",
     "output_type": "stream",
     "text": [
      "\u001b[1m294/296\u001b[0m \u001b[32m━━━━━━━━━━━━━━━━━━━\u001b[0m\u001b[37m━\u001b[0m \u001b[1m0s\u001b[0m 21ms/step - accuracy: 0.0244 - loss: 25.8644"
     ]
    },
    {
     "name": "stderr",
     "output_type": "stream",
     "text": [
      "2024-10-26 20:24:05.357763: I external/local_xla/xla/stream_executor/cuda/cuda_asm_compiler.cc:397] ptxas warning : Registers are spilled to local memory in function 'gemm_fusion_dot_237', 104 bytes spill stores, 104 bytes spill loads\n",
      "\n",
      "2024-10-26 20:24:05.369780: I external/local_xla/xla/stream_executor/cuda/cuda_asm_compiler.cc:397] ptxas warning : Registers are spilled to local memory in function 'gemm_fusion_dot_121', 164 bytes spill stores, 148 bytes spill loads\n",
      "\n",
      "2024-10-26 20:24:05.562550: I external/local_xla/xla/stream_executor/cuda/cuda_asm_compiler.cc:397] ptxas warning : Registers are spilled to local memory in function 'gemm_fusion_dot_256', 560 bytes spill stores, 560 bytes spill loads\n",
      "\n",
      "2024-10-26 20:24:05.727130: I external/local_xla/xla/stream_executor/cuda/cuda_asm_compiler.cc:397] ptxas warning : Registers are spilled to local memory in function 'gemm_fusion_dot_121', 4 bytes spill stores, 4 bytes spill loads\n",
      "\n",
      "2024-10-26 20:24:05.732029: I external/local_xla/xla/stream_executor/cuda/cuda_asm_compiler.cc:397] ptxas warning : Registers are spilled to local memory in function 'gemm_fusion_dot_256', 628 bytes spill stores, 628 bytes spill loads\n",
      "\n",
      "2024-10-26 20:24:05.857829: I external/local_xla/xla/stream_executor/cuda/cuda_asm_compiler.cc:397] ptxas warning : Registers are spilled to local memory in function 'gemm_fusion_dot_121', 44 bytes spill stores, 44 bytes spill loads\n",
      "\n"
     ]
    },
    {
     "name": "stdout",
     "output_type": "stream",
     "text": [
      "\u001b[1m296/296\u001b[0m \u001b[32m━━━━━━━━━━━━━━━━━━━━\u001b[0m\u001b[37m\u001b[0m \u001b[1m0s\u001b[0m 32ms/step - accuracy: 0.0244 - loss: 25.7936"
     ]
    },
    {
     "name": "stderr",
     "output_type": "stream",
     "text": [
      "2024-10-26 20:24:09.741258: I external/local_xla/xla/stream_executor/cuda/cuda_asm_compiler.cc:397] ptxas warning : Registers are spilled to local memory in function 'gemm_fusion_dot_46', 164 bytes spill stores, 148 bytes spill loads\n",
      "\n",
      "2024-10-26 20:24:09.789076: I external/local_xla/xla/stream_executor/cuda/cuda_asm_compiler.cc:397] ptxas warning : Registers are spilled to local memory in function 'gemm_fusion_dot_46', 4 bytes spill stores, 4 bytes spill loads\n",
      "\n",
      "2024-10-26 20:24:09.979167: I external/local_xla/xla/stream_executor/cuda/cuda_asm_compiler.cc:397] ptxas warning : Registers are spilled to local memory in function 'gemm_fusion_dot_46', 60 bytes spill stores, 60 bytes spill loads\n",
      "\n"
     ]
    },
    {
     "name": "stdout",
     "output_type": "stream",
     "text": [
      "\u001b[1m296/296\u001b[0m \u001b[32m━━━━━━━━━━━━━━━━━━━━\u001b[0m\u001b[37m\u001b[0m \u001b[1m19s\u001b[0m 44ms/step - accuracy: 0.0244 - loss: 25.7585 - val_accuracy: 0.0182 - val_loss: 4.3905\n",
      "Epoch 2/10\n",
      "\u001b[1m296/296\u001b[0m \u001b[32m━━━━━━━━━━━━━━━━━━━━\u001b[0m\u001b[37m\u001b[0m \u001b[1m6s\u001b[0m 22ms/step - accuracy: 0.0276 - loss: 4.2622 - val_accuracy: 0.0339 - val_loss: 4.1254\n",
      "Epoch 3/10\n",
      "\u001b[1m296/296\u001b[0m \u001b[32m━━━━━━━━━━━━━━━━━━━━\u001b[0m\u001b[37m\u001b[0m \u001b[1m6s\u001b[0m 21ms/step - accuracy: 0.0443 - loss: 4.0075 - val_accuracy: 0.0663 - val_loss: 3.9489\n",
      "Epoch 4/10\n",
      "\u001b[1m296/296\u001b[0m \u001b[32m━━━━━━━━━━━━━━━━━━━━\u001b[0m\u001b[37m\u001b[0m \u001b[1m6s\u001b[0m 21ms/step - accuracy: 0.0545 - loss: 3.8066 - val_accuracy: 0.0671 - val_loss: 3.4808\n",
      "Epoch 5/10\n",
      "\u001b[1m296/296\u001b[0m \u001b[32m━━━━━━━━━━━━━━━━━━━━\u001b[0m\u001b[37m\u001b[0m \u001b[1m6s\u001b[0m 21ms/step - accuracy: 0.0901 - loss: 3.3819 - val_accuracy: 0.0663 - val_loss: 3.3253\n",
      "Epoch 6/10\n",
      "\u001b[1m296/296\u001b[0m \u001b[32m━━━━━━━━━━━━━━━━━━━━\u001b[0m\u001b[37m\u001b[0m \u001b[1m6s\u001b[0m 21ms/step - accuracy: 0.0932 - loss: 3.2057 - val_accuracy: 0.0852 - val_loss: 3.1050\n",
      "Epoch 7/10\n",
      "\u001b[1m296/296\u001b[0m \u001b[32m━━━━━━━━━━━━━━━━━━━━\u001b[0m\u001b[37m\u001b[0m \u001b[1m6s\u001b[0m 21ms/step - accuracy: 0.1204 - loss: 3.0305 - val_accuracy: 0.0892 - val_loss: 3.1596\n",
      "Epoch 8/10\n",
      "\u001b[1m296/296\u001b[0m \u001b[32m━━━━━━━━━━━━━━━━━━━━\u001b[0m\u001b[37m\u001b[0m \u001b[1m6s\u001b[0m 21ms/step - accuracy: 0.0884 - loss: 2.9688 - val_accuracy: 0.0955 - val_loss: 2.9750\n",
      "Epoch 9/10\n",
      "\u001b[1m296/296\u001b[0m \u001b[32m━━━━━━━━━━━━━━━━━━━━\u001b[0m\u001b[37m\u001b[0m \u001b[1m6s\u001b[0m 21ms/step - accuracy: 0.1211 - loss: 2.8317 - val_accuracy: 0.1255 - val_loss: 2.9843\n",
      "Epoch 10/10\n",
      "\u001b[1m296/296\u001b[0m \u001b[32m━━━━━━━━━━━━━━━━━━━━\u001b[0m\u001b[37m\u001b[0m \u001b[1m6s\u001b[0m 21ms/step - accuracy: 0.1473 - loss: 2.6907 - val_accuracy: 0.1137 - val_loss: 2.8028\n"
     ]
    }
   ],
   "source": [
    "hist = model.fit(train_features, y_train_encoded, validation_data=(test_features, y_test_encoded), batch_size=64, epochs=100)\n"
   ]
  },
  {
   "cell_type": "code",
   "execution_count": 12,
   "metadata": {},
   "outputs": [
    {
     "data": {
      "text/plain": [
       "[]"
      ]
     },
     "execution_count": 12,
     "metadata": {},
     "output_type": "execute_result"
    },
    {
     "data": {
      "image/png": "[encoded data removed]",
      "text/plain": [
       "<Figure size 640x480 with 1 Axes>"
      ]
     },
     "metadata": {},
     "output_type": "display_data"
    }
   ],
   "source": [
    "import matplotlib.pyplot as plt\n",
    "\n",
    "acc = hist.history['accuracy']\n",
    "val_acc = hist.history['val_accuracy']\n",
    "epochs = range(1, len(acc) + 1)\n",
    "\n",
    "plt.plot(epochs, acc, '-', label='Training Accuracy')\n",
    "plt.plot(epochs, val_acc, ':', label='Validation Accuracy')\n",
    "plt.title('Training and Validation Accuracy')\n",
    "plt.xlabel('Epoch')\n",
    "plt.ylabel('Accuracy')\n",
    "plt.legend(loc='lower right')\n",
    "plt.plot()"
   ]
  },
  {
   "cell_type": "code",
   "execution_count": null,
   "metadata": {},
   "outputs": [],
   "source": []
  }
 ],
 "metadata": {
  "kernelspec": {
   "display_name": "Python 3",
   "language": "python",
   "name": "python3"
  },
  "language_info": {
   "codemirror_mode": {
    "name": "ipython",
    "version": 3
   },
   "file_extension": ".py",
   "mimetype": "text/x-python",
   "name": "python",
   "nbconvert_exporter": "python",
   "pygments_lexer": "ipython3",
   "version": "3.10.12"
  }
 },
 "nbformat": 4,
 "nbformat_minor": 2
}
