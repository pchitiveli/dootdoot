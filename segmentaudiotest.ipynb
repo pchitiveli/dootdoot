{
 "cells": [
  {
   "cell_type": "code",
   "execution_count": 2,
   "metadata": {},
   "outputs": [],
   "source": [
    "from util.AudioUtil import get_notes"
   ]
  },
  {
   "cell_type": "code",
   "execution_count": 3,
   "metadata": {},
   "outputs": [],
   "source": [
    "# display(len(chromas))\n",
    "# chromas[60]"
   ]
  },
  {
   "cell_type": "code",
   "execution_count": 4,
   "metadata": {},
   "outputs": [
    {
     "name": "stderr",
     "output_type": "stream",
     "text": [
      "c:\\Users\\xlr9c\\OneDrive\\Documents\\GitHub\\dootdoot\\.venv\\Lib\\site-packages\\librosa\\core\\pitch.py:101: UserWarning: Trying to estimate tuning from empty frequency set.\n",
      "  return pitch_tuning(\n",
      "c:\\Users\\xlr9c\\OneDrive\\Documents\\GitHub\\dootdoot\\.venv\\Lib\\site-packages\\librosa\\core\\spectrum.py:266: UserWarning: n_fft=2048 is too large for input signal of length=0\n",
      "  warnings.warn(\n"
     ]
    },
    {
     "name": "stdout",
     "output_type": "stream",
     "text": [
      "c'4 d'4 e'4 d'4 c'4 d'4 c'4 c'4 c'4 c'4 d'4 d'4 d'8 e'8 e'4 e'8 f'8 f'4 f'8 g'8 g'4 g'8 a'8 a'4 g'8 a'8 g'4 f'8 g'8 f'4 e'8 f'8 e'4 d'8 e'8 d'4 c'8 d'8 c'4 c'4 c'4 c'4 c'8 d'8 d'8 e'8 e'8 f'8 e'8 f'8 d'8 e'8 cs'8 d'8 cs'8 d'8 d'8 e'8 e'8 fs'8 fs'8 g'8 g'4 ds'8 g'8 d'8 ds'8 d'8 ds'8 ds'8 f'8 f'8 g'8 f'8 g'8 ds'8 f'8 d'8 ds'8 c'8 d'8 c'8 d'8 c'8 d'8 c'8 as'8 as'4 ds'4 ds'4 ds'4 ds'4 as'4 c'4 d'4 ds'4 f'4 g'4 f'4 ds'4 d'4 c'4 as'4 as'4 c'4 c'4 e'4 e'4 c'4 c'4 c'4 c'4 d'4 d'4 d'8 f'8 f'4 d'8 f'8 d'4 d'4 d'4 d'8 e'8 e'4 e'8 g'8 g'4 e'8 g'8 e'4 e'4 e'4 ds'8 e'8 ds'4 ds'8 g'8 g'4 ds'8 g'8 ds'4 ds'4 ds'4 ds'4 ds'4 ds'8 fs'8 fs'4 ds'8 fs'8 ds'4 ds'4 ds'4 cs'8 ds'8 cs'4 cs'8 e'8 e'4 cs'8 e'8 cs'4 cs'4 cs'4 cs'8 e'8 e'8 fs'8 fs'8 a'8 fs'8 a'8 e'8 fs'8 e'8 fs'8 d'8 fs'8 fs'4 e'8 fs'8 e'4 fs'8 g'8 e'8 fs'8 d'8 fs'8 e'8 fs'8 d'8 e'8 d'4 d'8 a'8 g'8 a'8 f'4 f'8 g'8 a'4 d'8 a'8 d'4 d'4 d'8 a'8 g'8 a'8 f'4 e'8 f'8 d'8 e'8 d'4 d'4 d'4 d'8 a'8 g'8 a'8 f'4 f'8 g'8 a'4 d'8 a'8 d'4 d'4 d'8 a'8 g'8 a'8 f'4 e'8 f'8 d'8 e'8 d'4 d'4 d'4 d'4 d'8 f'8 d'4 d'4 g'8 a'8 g'4 g'4 g'4 f'8 g'8 f'4 e'8 f'8 e'4 e'4 d'4 d'4 d'4 d'4 d'8 a'8 d'8 a'8 d'8 g'8 a'8 g'8 a'8 a'4 d'8 a'8 d'8 a'8 g'8 a'8 a'4 d'8 a'8 d'8 a'8 c'8 g'8 d'8 as'8 d'8 as'8 as'4 as'4 cs'8 d'8 cs'4 cs'4 cs'8 a'8 cs'8 e'8 cs'8 a'8 cs'8 e'8 cs'4 cs'8 gs'8 gs'4 gs'4 gs'8 a'8 cs'8 e'8 cs'8 a'8 cs'8 e'8 cs'4 c'4 d'4\n"
     ]
    }
   ],
   "source": [
    "from util.AudioUtil import music_notator\n",
    "\n",
    "music_notator(\".\\\\tests\\\\WAVs (Raw Audio)\\\\TrumpetEasySolos.mp3\",\"whee.pdf\")"
   ]
  }
 ],
 "metadata": {
  "kernelspec": {
   "display_name": ".venv",
   "language": "python",
   "name": "python3"
  },
  "language_info": {
   "codemirror_mode": {
    "name": "ipython",
    "version": 3
   },
   "file_extension": ".py",
   "mimetype": "text/x-python",
   "name": "python",
   "nbconvert_exporter": "python",
   "pygments_lexer": "ipython3",
   "version": "3.11.9"
  }
 },
 "nbformat": 4,
 "nbformat_minor": 2
}
