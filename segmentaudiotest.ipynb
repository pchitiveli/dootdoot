{
 "cells": [
  {
   "cell_type": "code",
   "execution_count": 1,
   "metadata": {},
   "outputs": [
    {
     "name": "stderr",
     "output_type": "stream",
     "text": [
      "c:\\Users\\jrjga\\Documents\\MusicNotator\\.venv\\Lib\\site-packages\\librosa\\core\\pitch.py:101: UserWarning: Trying to estimate tuning from empty frequency set.\n",
      "  return pitch_tuning(\n",
      "c:\\Users\\jrjga\\Documents\\MusicNotator\\.venv\\Lib\\site-packages\\librosa\\core\\spectrum.py:266: UserWarning: n_fft=2048 is too large for input signal of length=0\n",
      "  warnings.warn(\n"
     ]
    }
   ],
   "source": [
    "from util.AudioUtil import get_notes\n",
    "\n",
    "import os\n",
    "\n",
    "chromas = get_notes(os.path.join(os.getcwd(), 'tests', 'WAVs (Raw Audio)', 'TrumpetEasySolos.mp3'))"
   ]
  },
  {
   "cell_type": "code",
   "execution_count": 2,
   "metadata": {},
   "outputs": [
    {
     "data": {
      "text/plain": [
       "221"
      ]
     },
     "metadata": {},
     "output_type": "display_data"
    },
    {
     "data": {
      "text/plain": [
       "{'dis': 8, 'f': 8}"
      ]
     },
     "execution_count": 2,
     "metadata": {},
     "output_type": "execute_result"
    }
   ],
   "source": [
    "display(len(chromas))\n",
    "chromas[50]"
   ]
  },
  {
   "cell_type": "code",
   "execution_count": 4,
   "metadata": {},
   "outputs": [
    {
     "name": "stdout",
     "output_type": "stream",
     "text": [
      "c4 d4 e4 d4 c4 d4 c4 c4 c4 c4 d4 d4 d8 e8 e4 e8 f8 f4 f8 g8 g4 g8 a8 a4 g8 a8 g4 f8 g8 f4 e8 f8 e4 d8 e8 d4 c8 d8 c4 c4 c4 c4 c8 d8 d8 e8 e8 f8 e8 f8 d8 e8 c8 d8 c8 d8 d8 e8 e8 fis8 fis8 g8 g4 dis8 g8 d8 dis8 d8 dis8 dis8 f8 f8 g8 f8 g8 dis8 f8 d8 dis8 c8 d8 c8 d8 c8 d8 c8 ais8 ais4 dis4 dis4 dis4 dis4 ais4 c4 d4 dis4 f4 g4 f4 dis4 d4 c4 ais4 ais4 c4 c4 e4 e4 c4 c4 c4 c4 d4 d4 d8 f8 f4 d8 f8 d4 d4 d4 d8 e8 e4 e8 g8 g4 e8 g8 e4 e4 e4 dis8 e8 dis4 dis8 g8 g4 dis8 g8 dis4 dis4 dis4 dis4 dis4 dis8 fis8 fis4 dis8 fis8 dis4 dis4 dis4 c8 dis8 c4 c8 e8 e4 c8 e8 c4 c4 c4 c8 e8 e8 fis8 fis8 a8 fis8 a8 e8 fis8 e8 fis8 d8 fis8 fis4 e8 fis8 e4 fis8 g8 e8 fis8 d8 fis8 e8 fis8 d8 e8 d4 d8 a8 g8 a8 f4 f8 g8 a4 d8 a8 d4 d4 d8 a8 g8 a8 f4 e8 f8 d8 e8 d4 d4 d4 d8 a8 g8 a8 f4 f8 g8 a4 d8 a8 d4 d4 d8 a8 g8 a8 f4 e8 f8 d8 e8 d4 d4 d4 d4 d8 f8 d4 d4 g8 a8 g4 g4 g4 f8 g8 f4 e8 f8 e4 e4 d4 d4 d4 d4 d8 a8 d8 a8 d8 g8 a8 g8 a8 a4 d8 a8 d8 a8 g8 a8 a4 d8 a8 d8 a8 c8 g8 ais8 d8 ais8 d8 ais8 ais4 ais4 c8 d8 c4 c4 c8 a8 c8 e8 c8 a8 c8 e8 c4 c8 gis8 gis4 gis4 gis8 a8 c8 e8 c8 a8 c8 e8 c4 c4 d4\n"
     ]
    },
    {
     "ename": "LilyPondParserError",
     "evalue": "LexToken(STRING,'fis',1,179)",
     "output_type": "error",
     "traceback": [
      "\u001b[1;31m---------------------------------------------------------------------------\u001b[0m",
      "\u001b[1;31mLilyPondParserError\u001b[0m                       Traceback (most recent call last)",
      "Cell \u001b[1;32mIn[4], line 3\u001b[0m\n\u001b[0;32m      1\u001b[0m \u001b[38;5;28;01mfrom\u001b[39;00m \u001b[38;5;21;01mutil\u001b[39;00m\u001b[38;5;21;01m.\u001b[39;00m\u001b[38;5;21;01mAudioUtil\u001b[39;00m \u001b[38;5;28;01mimport\u001b[39;00m music_notator\n\u001b[1;32m----> 3\u001b[0m \u001b[43mmusic_notator\u001b[49m\u001b[43m(\u001b[49m\u001b[43mchromas\u001b[49m\u001b[43m)\u001b[49m\n",
      "File \u001b[1;32mc:\\Users\\jrjga\\Documents\\MusicNotator\\util\\AudioUtil.py:244\u001b[0m, in \u001b[0;36mmusic_notator\u001b[1;34m(chromas)\u001b[0m\n\u001b[0;32m    242\u001b[0m \u001b[38;5;28mprint\u001b[39m(string)\n\u001b[0;32m    243\u001b[0m \u001b[38;5;66;03m# string = \"c'4 f' f' f' d' g' a' b' e' a' b' c'' f' b' c'' d''4\"\u001b[39;00m\n\u001b[1;32m--> 244\u001b[0m voice_1 \u001b[38;5;241m=\u001b[39m \u001b[43mabjad\u001b[49m\u001b[38;5;241;43m.\u001b[39;49m\u001b[43mVoice\u001b[49m\u001b[43m(\u001b[49m\u001b[43mstring\u001b[49m\u001b[43m,\u001b[49m\u001b[43m \u001b[49m\u001b[43mname\u001b[49m\u001b[38;5;241;43m=\u001b[39;49m\u001b[38;5;124;43m\"\u001b[39;49m\u001b[38;5;124;43mVoice_1\u001b[39;49m\u001b[38;5;124;43m\"\u001b[39;49m\u001b[43m)\u001b[49m\n\u001b[0;32m    245\u001b[0m staff_1 \u001b[38;5;241m=\u001b[39m abjad\u001b[38;5;241m.\u001b[39mStaff([voice_1], name\u001b[38;5;241m=\u001b[39m\u001b[38;5;124m\"\u001b[39m\u001b[38;5;124mStaff_1\u001b[39m\u001b[38;5;124m\"\u001b[39m)\n\u001b[0;32m    246\u001b[0m abjad\u001b[38;5;241m.\u001b[39mshow(staff_1)\n",
      "File \u001b[1;32mc:\\Users\\jrjga\\Documents\\MusicNotator\\.venv\\Lib\\site-packages\\abjad\\score.py:7127\u001b[0m, in \u001b[0;36mVoice.__init__\u001b[1;34m(self, components, language, lilypond_type, name, simultaneous, tag)\u001b[0m\n\u001b[0;32m   7117\u001b[0m \u001b[38;5;28;01mdef\u001b[39;00m \u001b[38;5;21m__init__\u001b[39m(\n\u001b[0;32m   7118\u001b[0m     \u001b[38;5;28mself\u001b[39m,\n\u001b[0;32m   7119\u001b[0m     components\u001b[38;5;241m=\u001b[39m\u001b[38;5;28;01mNone\u001b[39;00m,\n\u001b[1;32m   (...)\u001b[0m\n\u001b[0;32m   7125\u001b[0m     tag: _tag\u001b[38;5;241m.\u001b[39mTag \u001b[38;5;241m|\u001b[39m \u001b[38;5;28;01mNone\u001b[39;00m \u001b[38;5;241m=\u001b[39m \u001b[38;5;28;01mNone\u001b[39;00m,\n\u001b[0;32m   7126\u001b[0m ) \u001b[38;5;241m-\u001b[39m\u001b[38;5;241m>\u001b[39m \u001b[38;5;28;01mNone\u001b[39;00m:\n\u001b[1;32m-> 7127\u001b[0m     \u001b[43mContext\u001b[49m\u001b[38;5;241;43m.\u001b[39;49m\u001b[38;5;21;43m__init__\u001b[39;49m\u001b[43m(\u001b[49m\n\u001b[0;32m   7128\u001b[0m \u001b[43m        \u001b[49m\u001b[38;5;28;43mself\u001b[39;49m\u001b[43m,\u001b[49m\n\u001b[0;32m   7129\u001b[0m \u001b[43m        \u001b[49m\u001b[43mcomponents\u001b[49m\u001b[38;5;241;43m=\u001b[39;49m\u001b[43mcomponents\u001b[49m\u001b[43m,\u001b[49m\n\u001b[0;32m   7130\u001b[0m \u001b[43m        \u001b[49m\u001b[43mlanguage\u001b[49m\u001b[38;5;241;43m=\u001b[39;49m\u001b[43mlanguage\u001b[49m\u001b[43m,\u001b[49m\n\u001b[0;32m   7131\u001b[0m \u001b[43m        \u001b[49m\u001b[43mlilypond_type\u001b[49m\u001b[38;5;241;43m=\u001b[39;49m\u001b[43mlilypond_type\u001b[49m\u001b[43m,\u001b[49m\n\u001b[0;32m   7132\u001b[0m \u001b[43m        \u001b[49m\u001b[43msimultaneous\u001b[49m\u001b[38;5;241;43m=\u001b[39;49m\u001b[43msimultaneous\u001b[49m\u001b[43m,\u001b[49m\n\u001b[0;32m   7133\u001b[0m \u001b[43m        \u001b[49m\u001b[43mname\u001b[49m\u001b[38;5;241;43m=\u001b[39;49m\u001b[43mname\u001b[49m\u001b[43m,\u001b[49m\n\u001b[0;32m   7134\u001b[0m \u001b[43m        \u001b[49m\u001b[43mtag\u001b[49m\u001b[38;5;241;43m=\u001b[39;49m\u001b[43mtag\u001b[49m\u001b[43m,\u001b[49m\n\u001b[0;32m   7135\u001b[0m \u001b[43m    \u001b[49m\u001b[43m)\u001b[49m\n",
      "File \u001b[1;32mc:\\Users\\jrjga\\Documents\\MusicNotator\\.venv\\Lib\\site-packages\\abjad\\score.py:2936\u001b[0m, in \u001b[0;36mContext.__init__\u001b[1;34m(self, components, language, lilypond_type, name, simultaneous, tag)\u001b[0m\n\u001b[0;32m   2934\u001b[0m \u001b[38;5;28mself\u001b[39m\u001b[38;5;241m.\u001b[39m_remove_commands: \u001b[38;5;28mlist\u001b[39m[\u001b[38;5;28mstr\u001b[39m] \u001b[38;5;241m=\u001b[39m []\n\u001b[0;32m   2935\u001b[0m \u001b[38;5;28mself\u001b[39m\u001b[38;5;241m.\u001b[39mlilypond_type \u001b[38;5;241m=\u001b[39m lilypond_type\n\u001b[1;32m-> 2936\u001b[0m \u001b[43mContainer\u001b[49m\u001b[38;5;241;43m.\u001b[39;49m\u001b[38;5;21;43m__init__\u001b[39;49m\u001b[43m(\u001b[49m\n\u001b[0;32m   2937\u001b[0m \u001b[43m    \u001b[49m\u001b[38;5;28;43mself\u001b[39;49m\u001b[43m,\u001b[49m\n\u001b[0;32m   2938\u001b[0m \u001b[43m    \u001b[49m\u001b[43msimultaneous\u001b[49m\u001b[38;5;241;43m=\u001b[39;49m\u001b[43msimultaneous\u001b[49m\u001b[43m,\u001b[49m\n\u001b[0;32m   2939\u001b[0m \u001b[43m    \u001b[49m\u001b[43mcomponents\u001b[49m\u001b[38;5;241;43m=\u001b[39;49m\u001b[43mcomponents\u001b[49m\u001b[43m,\u001b[49m\n\u001b[0;32m   2940\u001b[0m \u001b[43m    \u001b[49m\u001b[43mlanguage\u001b[49m\u001b[38;5;241;43m=\u001b[39;49m\u001b[43mlanguage\u001b[49m\u001b[43m,\u001b[49m\n\u001b[0;32m   2941\u001b[0m \u001b[43m    \u001b[49m\u001b[43mname\u001b[49m\u001b[38;5;241;43m=\u001b[39;49m\u001b[43mname\u001b[49m\u001b[43m,\u001b[49m\n\u001b[0;32m   2942\u001b[0m \u001b[43m    \u001b[49m\u001b[43mtag\u001b[49m\u001b[38;5;241;43m=\u001b[39;49m\u001b[43mtag\u001b[49m\u001b[43m,\u001b[49m\n\u001b[0;32m   2943\u001b[0m \u001b[43m\u001b[49m\u001b[43m)\u001b[49m\n",
      "File \u001b[1;32mc:\\Users\\jrjga\\Documents\\MusicNotator\\.venv\\Lib\\site-packages\\abjad\\score.py:811\u001b[0m, in \u001b[0;36mContainer.__init__\u001b[1;34m(self, components, identifier, language, name, simultaneous, tag)\u001b[0m\n\u001b[0;32m    809\u001b[0m \u001b[38;5;66;03m# sets name temporarily for _find_correct_effective_context:\u001b[39;00m\n\u001b[0;32m    810\u001b[0m \u001b[38;5;28mself\u001b[39m\u001b[38;5;241m.\u001b[39m_name \u001b[38;5;241m=\u001b[39m name\n\u001b[1;32m--> 811\u001b[0m \u001b[38;5;28;43mself\u001b[39;49m\u001b[38;5;241;43m.\u001b[39;49m\u001b[43m_initialize_components\u001b[49m\u001b[43m(\u001b[49m\u001b[43mcomponents\u001b[49m\u001b[43m,\u001b[49m\u001b[43m \u001b[49m\u001b[43mlanguage\u001b[49m\u001b[38;5;241;43m=\u001b[39;49m\u001b[43mlanguage\u001b[49m\u001b[43m)\u001b[49m\n\u001b[0;32m    812\u001b[0m \u001b[38;5;28mself\u001b[39m\u001b[38;5;241m.\u001b[39midentifier \u001b[38;5;241m=\u001b[39m identifier\n\u001b[0;32m    813\u001b[0m \u001b[38;5;28mself\u001b[39m\u001b[38;5;241m.\u001b[39msimultaneous \u001b[38;5;241m=\u001b[39m \u001b[38;5;28mbool\u001b[39m(simultaneous)\n",
      "File \u001b[1;32mc:\\Users\\jrjga\\Documents\\MusicNotator\\.venv\\Lib\\site-packages\\abjad\\score.py:1268\u001b[0m, in \u001b[0;36mContainer._initialize_components\u001b[1;34m(self, components, language)\u001b[0m\n\u001b[0;32m   1266\u001b[0m     \u001b[38;5;28;01massert\u001b[39;00m \u001b[38;5;28mall\u001b[39m(\u001b[38;5;28misinstance\u001b[39m(_, Component) \u001b[38;5;28;01mfor\u001b[39;00m _ \u001b[38;5;129;01min\u001b[39;00m components), \u001b[38;5;28mrepr\u001b[39m(components)\n\u001b[0;32m   1267\u001b[0m \u001b[38;5;28;01mif\u001b[39;00m \u001b[38;5;28misinstance\u001b[39m(components, \u001b[38;5;28mstr\u001b[39m):\n\u001b[1;32m-> 1268\u001b[0m     parsed \u001b[38;5;241m=\u001b[39m \u001b[38;5;28;43mself\u001b[39;49m\u001b[38;5;241;43m.\u001b[39;49m\u001b[43m_parse_string\u001b[49m\u001b[43m(\u001b[49m\u001b[43mcomponents\u001b[49m\u001b[43m,\u001b[49m\u001b[43m \u001b[49m\u001b[43mlanguage\u001b[49m\u001b[38;5;241;43m=\u001b[39;49m\u001b[43mlanguage\u001b[49m\u001b[43m)\u001b[49m\n\u001b[0;32m   1269\u001b[0m     \u001b[38;5;28mself\u001b[39m\u001b[38;5;241m.\u001b[39m_components \u001b[38;5;241m=\u001b[39m []\n\u001b[0;32m   1270\u001b[0m     \u001b[38;5;28mself\u001b[39m\u001b[38;5;241m.\u001b[39msimultaneous \u001b[38;5;241m=\u001b[39m parsed\u001b[38;5;241m.\u001b[39msimultaneous\n",
      "File \u001b[1;32mc:\\Users\\jrjga\\Documents\\MusicNotator\\.venv\\Lib\\site-packages\\abjad\\score.py:1290\u001b[0m, in \u001b[0;36mContainer._parse_string\u001b[1;34m(self, string, language)\u001b[0m\n\u001b[0;32m   1288\u001b[0m \u001b[38;5;28;01mif\u001b[39;00m \u001b[38;5;129;01mnot\u001b[39;00m user_input\u001b[38;5;241m.\u001b[39mstartswith(\u001b[38;5;124m\"\u001b[39m\u001b[38;5;124m<<\u001b[39m\u001b[38;5;124m\"\u001b[39m) \u001b[38;5;129;01mor\u001b[39;00m \u001b[38;5;129;01mnot\u001b[39;00m user_input\u001b[38;5;241m.\u001b[39mendswith(\u001b[38;5;124m\"\u001b[39m\u001b[38;5;124m>>\u001b[39m\u001b[38;5;124m\"\u001b[39m):\n\u001b[0;32m   1289\u001b[0m     user_input \u001b[38;5;241m=\u001b[39m \u001b[38;5;124mf\u001b[39m\u001b[38;5;124m\"\u001b[39m\u001b[38;5;130;01m{{\u001b[39;00m\u001b[38;5;124m \u001b[39m\u001b[38;5;132;01m{\u001b[39;00muser_input\u001b[38;5;132;01m}\u001b[39;00m\u001b[38;5;124m \u001b[39m\u001b[38;5;130;01m}}\u001b[39;00m\u001b[38;5;124m\"\u001b[39m\n\u001b[1;32m-> 1290\u001b[0m parsed \u001b[38;5;241m=\u001b[39m \u001b[38;5;28;43mself\u001b[39;49m\u001b[38;5;241;43m.\u001b[39;49m\u001b[43m_parse_lilypond_string\u001b[49m\u001b[43m(\u001b[49m\u001b[43muser_input\u001b[49m\u001b[43m,\u001b[49m\u001b[43m \u001b[49m\u001b[43mlanguage\u001b[49m\u001b[38;5;241;43m=\u001b[39;49m\u001b[43mlanguage\u001b[49m\u001b[43m)\u001b[49m\n\u001b[0;32m   1291\u001b[0m \u001b[38;5;28;01massert\u001b[39;00m \u001b[38;5;28misinstance\u001b[39m(parsed, Container)\n\u001b[0;32m   1292\u001b[0m \u001b[38;5;28;01mreturn\u001b[39;00m parsed\n",
      "File \u001b[1;32mc:\\Users\\jrjga\\Documents\\MusicNotator\\.venv\\Lib\\site-packages\\abjad\\score.py:71\u001b[0m, in \u001b[0;36mComponent._parse_lilypond_string\u001b[1;34m(string, language)\u001b[0m\n\u001b[0;32m     67\u001b[0m \u001b[38;5;129m@staticmethod\u001b[39m\n\u001b[0;32m     68\u001b[0m \u001b[38;5;28;01mdef\u001b[39;00m \u001b[38;5;21m_parse_lilypond_string\u001b[39m(string, language\u001b[38;5;241m=\u001b[39m\u001b[38;5;124m\"\u001b[39m\u001b[38;5;124menglish\u001b[39m\u001b[38;5;124m\"\u001b[39m):\n\u001b[0;32m     69\u001b[0m     \u001b[38;5;28;01mfrom\u001b[39;00m \u001b[38;5;21;01m.\u001b[39;00m\u001b[38;5;21;01mparsers\u001b[39;00m\u001b[38;5;21;01m.\u001b[39;00m\u001b[38;5;21;01mparse\u001b[39;00m \u001b[38;5;28;01mimport\u001b[39;00m parse\n\u001b[1;32m---> 71\u001b[0m     \u001b[38;5;28;01mreturn\u001b[39;00m \u001b[43mparse\u001b[49m\u001b[43m(\u001b[49m\u001b[43mstring\u001b[49m\u001b[43m,\u001b[49m\u001b[43m \u001b[49m\u001b[43mlanguage\u001b[49m\u001b[38;5;241;43m=\u001b[39;49m\u001b[43mlanguage\u001b[49m\u001b[43m)\u001b[49m\n",
      "File \u001b[1;32mc:\\Users\\jrjga\\Documents\\MusicNotator\\.venv\\Lib\\site-packages\\abjad\\parsers\\parse.py:56\u001b[0m, in \u001b[0;36mparse\u001b[1;34m(string, language, tag)\u001b[0m\n\u001b[0;32m     54\u001b[0m \u001b[38;5;28;01mif\u001b[39;00m \u001b[38;5;28mhasattr\u001b[39m(parser, \u001b[38;5;124m\"\u001b[39m\u001b[38;5;124m_syndef\u001b[39m\u001b[38;5;124m\"\u001b[39m):\n\u001b[0;32m     55\u001b[0m     parser\u001b[38;5;241m.\u001b[39m_syndef\u001b[38;5;241m.\u001b[39mtag \u001b[38;5;241m=\u001b[39m tag\n\u001b[1;32m---> 56\u001b[0m result \u001b[38;5;241m=\u001b[39m \u001b[43mparser\u001b[49m\u001b[43m(\u001b[49m\u001b[43mstring\u001b[49m\u001b[43m)\u001b[49m\n\u001b[0;32m     57\u001b[0m \u001b[38;5;28;01mreturn\u001b[39;00m result\n",
      "File \u001b[1;32mc:\\Users\\jrjga\\Documents\\MusicNotator\\.venv\\Lib\\site-packages\\abjad\\parsers\\parser.py:2770\u001b[0m, in \u001b[0;36mLilyPondParser.__call__\u001b[1;34m(self, input_string)\u001b[0m\n\u001b[0;32m   2766\u001b[0m     result \u001b[38;5;241m=\u001b[39m \u001b[38;5;28mself\u001b[39m\u001b[38;5;241m.\u001b[39m_parser\u001b[38;5;241m.\u001b[39m_lilypond_patch_parse_debug(\n\u001b[0;32m   2767\u001b[0m         input_string, lexer\u001b[38;5;241m=\u001b[39m\u001b[38;5;28mself\u001b[39m\u001b[38;5;241m.\u001b[39m_lexer, debug\u001b[38;5;241m=\u001b[39m\u001b[38;5;28mself\u001b[39m\u001b[38;5;241m.\u001b[39m_logger\n\u001b[0;32m   2768\u001b[0m     )\n\u001b[0;32m   2769\u001b[0m \u001b[38;5;28;01melse\u001b[39;00m:\n\u001b[1;32m-> 2770\u001b[0m     result \u001b[38;5;241m=\u001b[39m \u001b[38;5;28;43mself\u001b[39;49m\u001b[38;5;241;43m.\u001b[39;49m\u001b[43m_parser\u001b[49m\u001b[38;5;241;43m.\u001b[39;49m\u001b[43m_lilypond_patch_parse\u001b[49m\u001b[43m(\u001b[49m\u001b[43minput_string\u001b[49m\u001b[43m,\u001b[49m\u001b[43m \u001b[49m\u001b[43mlexer\u001b[49m\u001b[38;5;241;43m=\u001b[39;49m\u001b[38;5;28;43mself\u001b[39;49m\u001b[38;5;241;43m.\u001b[39;49m\u001b[43m_lexer\u001b[49m\u001b[43m)\u001b[49m\n\u001b[0;32m   2771\u001b[0m \u001b[38;5;28;01mreturn\u001b[39;00m result\n",
      "File \u001b[1;32mc:\\Users\\jrjga\\Documents\\MusicNotator\\.venv\\Lib\\site-packages\\abjad\\parsers\\parser.py:1062\u001b[0m, in \u001b[0;36m_parse\u001b[1;34m(self, input, lexer, debug, tracking, tokenfunc)\u001b[0m\n\u001b[0;32m   1060\u001b[0m \u001b[38;5;28;01mif\u001b[39;00m errtoken \u001b[38;5;129;01mand\u001b[39;00m \u001b[38;5;129;01mnot\u001b[39;00m \u001b[38;5;28mhasattr\u001b[39m(errtoken, \u001b[38;5;124m\"\u001b[39m\u001b[38;5;124mlexer\u001b[39m\u001b[38;5;124m\"\u001b[39m):\n\u001b[0;32m   1061\u001b[0m     errtoken\u001b[38;5;241m.\u001b[39mlexer \u001b[38;5;241m=\u001b[39m lexer\n\u001b[1;32m-> 1062\u001b[0m tok \u001b[38;5;241m=\u001b[39m \u001b[38;5;28;43mself\u001b[39;49m\u001b[38;5;241;43m.\u001b[39;49m\u001b[43merrorfunc\u001b[49m\u001b[43m(\u001b[49m\u001b[43merrtoken\u001b[49m\u001b[43m)\u001b[49m\n\u001b[0;32m   1063\u001b[0m \u001b[38;5;28;01mdel\u001b[39;00m errok, token, restart  \u001b[38;5;66;03m# Delete special functions\u001b[39;00m\n\u001b[0;32m   1065\u001b[0m \u001b[38;5;28;01mif\u001b[39;00m \u001b[38;5;28mself\u001b[39m\u001b[38;5;241m.\u001b[39merrorok:\n\u001b[0;32m   1066\u001b[0m     \u001b[38;5;66;03m# User must have done some kind of panic\u001b[39;00m\n\u001b[0;32m   1067\u001b[0m     \u001b[38;5;66;03m# mode recovery on their own.  The\u001b[39;00m\n\u001b[0;32m   1068\u001b[0m     \u001b[38;5;66;03m# returned token is the next self.lookahead\u001b[39;00m\n",
      "File \u001b[1;32mc:\\Users\\jrjga\\Documents\\MusicNotator\\.venv\\Lib\\site-packages\\abjad\\parsers\\parser.py:6639\u001b[0m, in \u001b[0;36mLilyPondSyntacticalDefinition.p_error\u001b[1;34m(self, p)\u001b[0m\n\u001b[0;32m   6637\u001b[0m \u001b[38;5;28;01mdef\u001b[39;00m \u001b[38;5;21mp_error\u001b[39m(\u001b[38;5;28mself\u001b[39m, p):\n\u001b[0;32m   6638\u001b[0m     \u001b[38;5;66;03m# print p\u001b[39;00m\n\u001b[1;32m-> 6639\u001b[0m     \u001b[38;5;28;01mraise\u001b[39;00m _exceptions\u001b[38;5;241m.\u001b[39mLilyPondParserError(p)\n",
      "\u001b[1;31mLilyPondParserError\u001b[0m: LexToken(STRING,'fis',1,179)"
     ]
    }
   ],
   "source": [
    "from util.AudioUtil import music_notator\n",
    "\n",
    "music_notator(chromas)"
   ]
  }
 ],
 "metadata": {
  "kernelspec": {
   "display_name": ".venv",
   "language": "python",
   "name": "python3"
  },
  "language_info": {
   "codemirror_mode": {
    "name": "ipython",
    "version": 3
   },
   "file_extension": ".py",
   "mimetype": "text/x-python",
   "name": "python",
   "nbconvert_exporter": "python",
   "pygments_lexer": "ipython3",
   "version": "3.11.9"
  }
 },
 "nbformat": 4,
 "nbformat_minor": 2
}
